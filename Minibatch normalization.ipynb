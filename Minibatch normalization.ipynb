{
 "cells": [
  {
   "cell_type": "markdown",
   "metadata": {},
   "source": [
    "# Нормализация по мини-батчам"
   ]
  },
  {
   "cell_type": "markdown",
   "metadata": {},
   "source": [
    "## Пример работы сети без нормализации"
   ]
  },
  {
   "cell_type": "code",
   "execution_count": 1,
   "metadata": {},
   "outputs": [
    {
     "name": "stderr",
     "output_type": "stream",
     "text": [
      "Using TensorFlow backend.\n"
     ]
    }
   ],
   "source": [
    "import os, shutil\n",
    "import keras\n",
    "from keras import layers, models, optimizers\n",
    "import matplotlib.pyplot as plt"
   ]
  },
  {
   "cell_type": "code",
   "execution_count": 2,
   "metadata": {},
   "outputs": [],
   "source": [
    "base_dir = 'C:\\\\Users\\\\Admin\\\\cats_and_dogs_small'\n",
    "train_dir = os.path.join(base_dir, 'train')\n",
    "validation_dir = os.path.join(base_dir, 'validation')\n",
    "test_dir = os.path.join(base_dir, 'test')\n",
    "train_cats_dir = os.path.join(train_dir, 'cats')\n",
    "train_dogs_dir = os.path.join(train_dir, 'dogs')\n",
    "validation_cats_dir = os.path.join(validation_dir, 'cats')\n",
    "validation_dogs_dir = os.path.join(validation_dir, 'dogs')\n",
    "test_cats_dir = os.path.join(test_dir, 'cats')\n",
    "test_dogs_dir = os.path.join(test_dir, 'dogs')"
   ]
  },
  {
   "cell_type": "code",
   "execution_count": 3,
   "metadata": {},
   "outputs": [],
   "source": [
    "model = models.Sequential()\n",
    "model.add(layers.Conv2D(32, (3, 3), activation='relu',\n",
    "                        input_shape=(150, 150, 3)))\n",
    "model.add(layers.MaxPooling2D((2, 2)))\n",
    "model.add(layers.Conv2D(64, (3, 3), activation='relu'))\n",
    "model.add(layers.MaxPooling2D((2, 2)))\n",
    "model.add(layers.Conv2D(128, (3, 3), activation='relu'))\n",
    "model.add(layers.MaxPooling2D((2, 2)))\n",
    "model.add(layers.Conv2D(128, (3, 3), activation='relu'))\n",
    "model.add(layers.MaxPooling2D((2, 2)))\n",
    "model.add(layers.Flatten())\n",
    "model.add(layers.Dense(512, activation='relu'))\n",
    "model.add(layers.Dense(1, activation='sigmoid'))"
   ]
  },
  {
   "cell_type": "code",
   "execution_count": 4,
   "metadata": {},
   "outputs": [],
   "source": [
    "model.compile(loss='binary_crossentropy',\n",
    "              optimizer=optimizers.RMSprop(lr=1e-4),\n",
    "              metrics=['acc'])"
   ]
  },
  {
   "cell_type": "code",
   "execution_count": 5,
   "metadata": {},
   "outputs": [
    {
     "name": "stdout",
     "output_type": "stream",
     "text": [
      "Found 2000 images belonging to 2 classes.\n",
      "Found 1000 images belonging to 2 classes.\n"
     ]
    }
   ],
   "source": [
    "from keras.preprocessing.image import ImageDataGenerator\n",
    "train_datagen = ImageDataGenerator(rescale=1./255)\n",
    "test_datagen = ImageDataGenerator(rescale=1./255)\n",
    "train_generator = train_datagen.flow_from_directory(\n",
    "        train_dir,\n",
    "        target_size=(150, 150),\n",
    "        batch_size=20,\n",
    "        class_mode='binary')\n",
    "\n",
    "validation_generator = test_datagen.flow_from_directory(\n",
    "        validation_dir,\n",
    "        target_size=(150, 150),\n",
    "        batch_size=20,\n",
    "        class_mode='binary')"
   ]
  },
  {
   "cell_type": "code",
   "execution_count": 6,
   "metadata": {},
   "outputs": [
    {
     "name": "stdout",
     "output_type": "stream",
     "text": [
      "Epoch 1/30\n",
      "100/100 [==============================] - 10s 97ms/step - loss: 0.6932 - acc: 0.5235 - val_loss: 0.6585 - val_acc: 0.5440\n",
      "Epoch 2/30\n",
      "100/100 [==============================] - 6s 56ms/step - loss: 0.6595 - acc: 0.6155 - val_loss: 0.6888 - val_acc: 0.6240\n",
      "Epoch 3/30\n",
      "100/100 [==============================] - 6s 61ms/step - loss: 0.6171 - acc: 0.6750 - val_loss: 0.6114 - val_acc: 0.6270\n",
      "Epoch 4/30\n",
      "100/100 [==============================] - 6s 61ms/step - loss: 0.5762 - acc: 0.7005 - val_loss: 0.6386 - val_acc: 0.6650\n",
      "Epoch 5/30\n",
      "100/100 [==============================] - 6s 61ms/step - loss: 0.5359 - acc: 0.7245 - val_loss: 0.6424 - val_acc: 0.7010\n",
      "Epoch 6/30\n",
      "100/100 [==============================] - 6s 62ms/step - loss: 0.5029 - acc: 0.7580 - val_loss: 0.5956 - val_acc: 0.6960\n",
      "Epoch 7/30\n",
      "100/100 [==============================] - 6s 61ms/step - loss: 0.4754 - acc: 0.7705 - val_loss: 0.5350 - val_acc: 0.6990\n",
      "Epoch 8/30\n",
      "100/100 [==============================] - 6s 62ms/step - loss: 0.4532 - acc: 0.7870 - val_loss: 0.5771 - val_acc: 0.7090\n",
      "Epoch 9/30\n",
      "100/100 [==============================] - 6s 61ms/step - loss: 0.4221 - acc: 0.8050 - val_loss: 0.5117 - val_acc: 0.7200\n",
      "Epoch 10/30\n",
      "100/100 [==============================] - 6s 61ms/step - loss: 0.3925 - acc: 0.8255 - val_loss: 0.6718 - val_acc: 0.7200\n",
      "Epoch 11/30\n",
      "100/100 [==============================] - 6s 63ms/step - loss: 0.3740 - acc: 0.8320 - val_loss: 0.6615 - val_acc: 0.6930\n",
      "Epoch 12/30\n",
      "100/100 [==============================] - 6s 62ms/step - loss: 0.3505 - acc: 0.8435 - val_loss: 0.4448 - val_acc: 0.7240\n",
      "Epoch 13/30\n",
      "100/100 [==============================] - 6s 62ms/step - loss: 0.3195 - acc: 0.8695 - val_loss: 0.7913 - val_acc: 0.7290\n",
      "Epoch 14/30\n",
      "100/100 [==============================] - 6s 61ms/step - loss: 0.3057 - acc: 0.8705 - val_loss: 0.4956 - val_acc: 0.7280\n",
      "Epoch 15/30\n",
      "100/100 [==============================] - 6s 62ms/step - loss: 0.2788 - acc: 0.8875 - val_loss: 0.7727 - val_acc: 0.7310\n",
      "Epoch 16/30\n",
      "100/100 [==============================] - 6s 63ms/step - loss: 0.2593 - acc: 0.8965 - val_loss: 0.7280 - val_acc: 0.7340\n",
      "Epoch 17/30\n",
      "100/100 [==============================] - 6s 63ms/step - loss: 0.2343 - acc: 0.9075 - val_loss: 0.5569 - val_acc: 0.7260\n",
      "Epoch 18/30\n",
      "100/100 [==============================] - 6s 63ms/step - loss: 0.2225 - acc: 0.9130 - val_loss: 0.3591 - val_acc: 0.7470\n",
      "Epoch 19/30\n",
      "100/100 [==============================] - 6s 62ms/step - loss: 0.1989 - acc: 0.9255 - val_loss: 0.2494 - val_acc: 0.7250\n",
      "Epoch 20/30\n",
      "100/100 [==============================] - 6s 61ms/step - loss: 0.1796 - acc: 0.9400 - val_loss: 0.6882 - val_acc: 0.6920\n",
      "Epoch 21/30\n",
      "100/100 [==============================] - 6s 61ms/step - loss: 0.1658 - acc: 0.9410 - val_loss: 0.7697 - val_acc: 0.7200\n",
      "Epoch 22/30\n",
      "100/100 [==============================] - 6s 60ms/step - loss: 0.1410 - acc: 0.9515 - val_loss: 0.8841 - val_acc: 0.7340\n",
      "Epoch 23/30\n",
      "100/100 [==============================] - 6s 61ms/step - loss: 0.1279 - acc: 0.9570 - val_loss: 0.4952 - val_acc: 0.7340\n",
      "Epoch 24/30\n",
      "100/100 [==============================] - 6s 60ms/step - loss: 0.1141 - acc: 0.9615 - val_loss: 0.7024 - val_acc: 0.7140\n",
      "Epoch 25/30\n",
      "100/100 [==============================] - 6s 61ms/step - loss: 0.0973 - acc: 0.9695 - val_loss: 0.6635 - val_acc: 0.7220\n",
      "Epoch 26/30\n",
      "100/100 [==============================] - 6s 60ms/step - loss: 0.0805 - acc: 0.9765 - val_loss: 0.4583 - val_acc: 0.7080\n",
      "Epoch 27/30\n",
      "100/100 [==============================] - 6s 61ms/step - loss: 0.0752 - acc: 0.9755 - val_loss: 1.0996 - val_acc: 0.7280\n",
      "Epoch 28/30\n",
      "100/100 [==============================] - 6s 60ms/step - loss: 0.0599 - acc: 0.9860 - val_loss: 0.7368 - val_acc: 0.7330\n",
      "Epoch 29/30\n",
      "100/100 [==============================] - 6s 61ms/step - loss: 0.0518 - acc: 0.9855 - val_loss: 2.0840 - val_acc: 0.7190\n",
      "Epoch 30/30\n",
      "100/100 [==============================] - 6s 61ms/step - loss: 0.0461 - acc: 0.9865 - val_loss: 1.7558 - val_acc: 0.7420\n"
     ]
    }
   ],
   "source": [
    "base_model_history = model.fit_generator(\n",
    "      train_generator,\n",
    "      steps_per_epoch=100,\n",
    "      epochs=30,\n",
    "      validation_data=validation_generator,\n",
    "      validation_steps=50)"
   ]
  },
  {
   "cell_type": "markdown",
   "metadata": {},
   "source": [
    "## Работа аналогичной сети с нормализацией по мини-батчам"
   ]
  },
  {
   "cell_type": "code",
   "execution_count": 8,
   "metadata": {},
   "outputs": [],
   "source": [
    "model = models.Sequential()\n",
    "model.add(layers.Conv2D(32, (3, 3), use_bias=False, input_shape=(150, 150, 3)))\n",
    "model.add(layers.BatchNormalization())\n",
    "model.add(layers.Activation(\"relu\"))\n",
    "model.add(layers.MaxPooling2D((2, 2)))\n",
    "\n",
    "model.add(layers.Conv2D(64, (3, 3), use_bias=False))\n",
    "model.add(layers.BatchNormalization())\n",
    "model.add(layers.Activation(\"relu\"))\n",
    "model.add(layers.MaxPooling2D((2, 2)))\n",
    "\n",
    "model.add(layers.Conv2D(128, (3, 3), use_bias=False))\n",
    "model.add(layers.BatchNormalization())\n",
    "model.add(layers.Activation(\"relu\"))\n",
    "model.add(layers.MaxPooling2D((2, 2)))\n",
    "\n",
    "model.add(layers.Conv2D(128, (3, 3), use_bias=False))\n",
    "model.add(layers.BatchNormalization())\n",
    "model.add(layers.Activation(\"relu\"))\n",
    "model.add(layers.MaxPooling2D((2, 2)))\n",
    "\n",
    "model.add(layers.Flatten())\n",
    "model.add(layers.Dense(512, use_bias=False))\n",
    "model.add(layers.Activation(\"relu\"))\n",
    "\n",
    "model.add(layers.Dense(1, activation='sigmoid'))"
   ]
  },
  {
   "cell_type": "code",
   "execution_count": 9,
   "metadata": {},
   "outputs": [
    {
     "name": "stdout",
     "output_type": "stream",
     "text": [
      "Model: \"sequential_2\"\n",
      "_________________________________________________________________\n",
      "Layer (type)                 Output Shape              Param #   \n",
      "=================================================================\n",
      "conv2d_5 (Conv2D)            (None, 148, 148, 32)      864       \n",
      "_________________________________________________________________\n",
      "batch_normalization_1 (Batch (None, 148, 148, 32)      128       \n",
      "_________________________________________________________________\n",
      "activation_1 (Activation)    (None, 148, 148, 32)      0         \n",
      "_________________________________________________________________\n",
      "max_pooling2d_5 (MaxPooling2 (None, 74, 74, 32)        0         \n",
      "_________________________________________________________________\n",
      "conv2d_6 (Conv2D)            (None, 72, 72, 64)        18432     \n",
      "_________________________________________________________________\n",
      "batch_normalization_2 (Batch (None, 72, 72, 64)        256       \n",
      "_________________________________________________________________\n",
      "activation_2 (Activation)    (None, 72, 72, 64)        0         \n",
      "_________________________________________________________________\n",
      "max_pooling2d_6 (MaxPooling2 (None, 36, 36, 64)        0         \n",
      "_________________________________________________________________\n",
      "conv2d_7 (Conv2D)            (None, 34, 34, 128)       73728     \n",
      "_________________________________________________________________\n",
      "batch_normalization_3 (Batch (None, 34, 34, 128)       512       \n",
      "_________________________________________________________________\n",
      "activation_3 (Activation)    (None, 34, 34, 128)       0         \n",
      "_________________________________________________________________\n",
      "max_pooling2d_7 (MaxPooling2 (None, 17, 17, 128)       0         \n",
      "_________________________________________________________________\n",
      "conv2d_8 (Conv2D)            (None, 15, 15, 128)       147456    \n",
      "_________________________________________________________________\n",
      "batch_normalization_4 (Batch (None, 15, 15, 128)       512       \n",
      "_________________________________________________________________\n",
      "activation_4 (Activation)    (None, 15, 15, 128)       0         \n",
      "_________________________________________________________________\n",
      "max_pooling2d_8 (MaxPooling2 (None, 7, 7, 128)         0         \n",
      "_________________________________________________________________\n",
      "flatten_2 (Flatten)          (None, 6272)              0         \n",
      "_________________________________________________________________\n",
      "dense_3 (Dense)              (None, 512)               3211264   \n",
      "_________________________________________________________________\n",
      "activation_5 (Activation)    (None, 512)               0         \n",
      "_________________________________________________________________\n",
      "dense_4 (Dense)              (None, 1)                 513       \n",
      "=================================================================\n",
      "Total params: 3,453,665\n",
      "Trainable params: 3,452,961\n",
      "Non-trainable params: 704\n",
      "_________________________________________________________________\n"
     ]
    }
   ],
   "source": [
    "model.summary()"
   ]
  },
  {
   "cell_type": "code",
   "execution_count": 10,
   "metadata": {},
   "outputs": [],
   "source": [
    "model.compile(loss='binary_crossentropy',\n",
    "              optimizer=optimizers.RMSprop(lr=1e-4),\n",
    "              metrics=['acc'])"
   ]
  },
  {
   "cell_type": "code",
   "execution_count": 11,
   "metadata": {},
   "outputs": [
    {
     "name": "stdout",
     "output_type": "stream",
     "text": [
      "Epoch 1/30\n",
      "100/100 [==============================] - 15s 150ms/step - loss: 0.8716 - acc: 0.6000 - val_loss: 0.9720 - val_acc: 0.5000\n",
      "Epoch 2/30\n",
      "100/100 [==============================] - 14s 143ms/step - loss: 0.5544 - acc: 0.7290 - val_loss: 0.6513 - val_acc: 0.5040\n",
      "Epoch 3/30\n",
      "100/100 [==============================] - 14s 144ms/step - loss: 0.4460 - acc: 0.7850 - val_loss: 1.1749 - val_acc: 0.5000\n",
      "Epoch 4/30\n",
      "100/100 [==============================] - 14s 143ms/step - loss: 0.3763 - acc: 0.8305 - val_loss: 0.5076 - val_acc: 0.6740\n",
      "Epoch 5/30\n",
      "100/100 [==============================] - 14s 143ms/step - loss: 0.2907 - acc: 0.8730 - val_loss: 0.6438 - val_acc: 0.7000\n",
      "Epoch 6/30\n",
      "100/100 [==============================] - 14s 143ms/step - loss: 0.2278 - acc: 0.9080 - val_loss: 0.8827 - val_acc: 0.5780\n",
      "Epoch 7/30\n",
      "100/100 [==============================] - 14s 143ms/step - loss: 0.1935 - acc: 0.9245 - val_loss: 0.6855 - val_acc: 0.7160\n",
      "Epoch 8/30\n",
      "100/100 [==============================] - 14s 143ms/step - loss: 0.1485 - acc: 0.9465 - val_loss: 0.6098 - val_acc: 0.7270\n",
      "Epoch 9/30\n",
      "100/100 [==============================] - 14s 143ms/step - loss: 0.1307 - acc: 0.9520 - val_loss: 0.6215 - val_acc: 0.7600\n",
      "Epoch 10/30\n",
      "100/100 [==============================] - 14s 144ms/step - loss: 0.0920 - acc: 0.9690 - val_loss: 0.6748 - val_acc: 0.7550\n",
      "Epoch 11/30\n",
      "100/100 [==============================] - 14s 144ms/step - loss: 0.0795 - acc: 0.9735 - val_loss: 0.2147 - val_acc: 0.7510\n",
      "Epoch 12/30\n",
      "100/100 [==============================] - 14s 144ms/step - loss: 0.0729 - acc: 0.9735 - val_loss: 1.3779 - val_acc: 0.7030\n",
      "Epoch 13/30\n",
      "100/100 [==============================] - 14s 143ms/step - loss: 0.0669 - acc: 0.9770 - val_loss: 0.4324 - val_acc: 0.7500\n",
      "Epoch 14/30\n",
      "100/100 [==============================] - 14s 144ms/step - loss: 0.0536 - acc: 0.9810 - val_loss: 0.7613 - val_acc: 0.7460\n",
      "Epoch 15/30\n",
      "100/100 [==============================] - 14s 144ms/step - loss: 0.0462 - acc: 0.9855 - val_loss: 0.2629 - val_acc: 0.7640\n",
      "Epoch 16/30\n",
      "100/100 [==============================] - 14s 143ms/step - loss: 0.0573 - acc: 0.9815 - val_loss: 2.8748 - val_acc: 0.6400\n",
      "Epoch 17/30\n",
      "100/100 [==============================] - 14s 143ms/step - loss: 0.0414 - acc: 0.9870 - val_loss: 0.8389 - val_acc: 0.7770\n",
      "Epoch 18/30\n",
      "100/100 [==============================] - 14s 143ms/step - loss: 0.0336 - acc: 0.9910 - val_loss: 0.5446 - val_acc: 0.7680\n",
      "Epoch 19/30\n",
      "100/100 [==============================] - 14s 143ms/step - loss: 0.0431 - acc: 0.9875 - val_loss: 0.5025 - val_acc: 0.7580\n",
      "Epoch 20/30\n",
      "100/100 [==============================] - 14s 143ms/step - loss: 0.0256 - acc: 0.9915 - val_loss: 0.7018 - val_acc: 0.7640\n",
      "Epoch 21/30\n",
      "100/100 [==============================] - 14s 144ms/step - loss: 0.0220 - acc: 0.9920 - val_loss: 0.3098 - val_acc: 0.7620\n",
      "Epoch 22/30\n",
      "100/100 [==============================] - 14s 144ms/step - loss: 0.0211 - acc: 0.9945 - val_loss: 0.5965 - val_acc: 0.7650\n",
      "Epoch 23/30\n",
      "100/100 [==============================] - 14s 143ms/step - loss: 0.0231 - acc: 0.9935 - val_loss: 0.8049 - val_acc: 0.7670\n",
      "Epoch 24/30\n",
      "100/100 [==============================] - 14s 143ms/step - loss: 0.0318 - acc: 0.9920 - val_loss: 1.5881 - val_acc: 0.7430\n",
      "Epoch 25/30\n",
      "100/100 [==============================] - 14s 143ms/step - loss: 0.0272 - acc: 0.9920 - val_loss: 1.0887 - val_acc: 0.7660\n",
      "Epoch 26/30\n",
      "100/100 [==============================] - 14s 143ms/step - loss: 0.0145 - acc: 0.9960 - val_loss: 0.9299 - val_acc: 0.6260\n",
      "Epoch 27/30\n",
      "100/100 [==============================] - 14s 143ms/step - loss: 0.0249 - acc: 0.9920 - val_loss: 1.3981 - val_acc: 0.7730\n",
      "Epoch 28/30\n",
      "100/100 [==============================] - 14s 143ms/step - loss: 0.0126 - acc: 0.9945 - val_loss: 1.2238 - val_acc: 0.7580\n",
      "Epoch 29/30\n",
      "100/100 [==============================] - 14s 144ms/step - loss: 0.0204 - acc: 0.9965 - val_loss: 1.1577 - val_acc: 0.7530\n",
      "Epoch 30/30\n",
      "100/100 [==============================] - 14s 143ms/step - loss: 0.0248 - acc: 0.9910 - val_loss: 1.7342 - val_acc: 0.7400\n"
     ]
    }
   ],
   "source": [
    "history = model.fit_generator(\n",
    "      train_generator,\n",
    "      steps_per_epoch=100,\n",
    "      epochs=30,\n",
    "      validation_data=validation_generator,\n",
    "      validation_steps=50)"
   ]
  },
  {
   "cell_type": "code",
   "execution_count": 18,
   "metadata": {},
   "outputs": [
    {
     "data": {
      "image/png": "[encoded data removed]",
      "text/plain": [
       "<Figure size 576x288 with 1 Axes>"
      ]
     },
     "metadata": {
      "needs_background": "light"
     },
     "output_type": "display_data"
    },
    {
     "data": {
      "image/png": "[encoded data removed]",
      "text/plain": [
       "<Figure size 576x288 with 1 Axes>"
      ]
     },
     "metadata": {
      "needs_background": "light"
     },
     "output_type": "display_data"
    }
   ],
   "source": [
    "base_acc = base_model_history.history['acc']\n",
    "base_val_acc = base_model_history.history['val_acc']\n",
    "base_loss = base_model_history.history['loss']\n",
    "base_val_loss = base_model_history.history['val_loss']\n",
    "\n",
    "acc = history.history['acc']\n",
    "val_acc = history.history['val_acc']\n",
    "loss = history.history['loss']\n",
    "val_loss = history.history['val_loss']\n",
    "epochs = range(len(acc))\n",
    "\n",
    "plt.figure(figsize=(8,4))\n",
    "plt.plot(epochs, acc, 'bo', color='red', label='Точность обучения с MBN')\n",
    "plt.plot(epochs, base_acc, 'bo', color='blue', label='Точность обучения без MBN')\n",
    "plt.plot(epochs, val_acc, 'b', color='red', label='Точность валидации с MBN')\n",
    "plt.plot(epochs, base_val_acc, 'b', color='blue', label='Точность валидации без MBN')\n",
    "plt.title('Точность')\n",
    "plt.legend()\n",
    "\n",
    "plt.figure(figsize=(8,4))\n",
    "plt.plot(epochs, base_loss, 'bo', color='blue', label='Функция потерь обучения без MBN')\n",
    "plt.plot(epochs, base_val_loss, 'b', color='blue', label='Функция потерь валидации без MBN')\n",
    "plt.plot(epochs, loss, 'bo', color='red', label='Функция потерь обучения с MBN')\n",
    "plt.plot(epochs, val_loss, 'b', color='red', label='Функция потерь валидации с MBN')\n",
    "plt.title('Функция потерь')\n",
    "plt.legend()\n",
    "\n",
    "plt.show()"
   ]
  },
  {
   "cell_type": "code",
   "execution_count": null,
   "metadata": {},
   "outputs": [],
   "source": []
  }
 ],
 "metadata": {
  "kernelspec": {
   "display_name": "Python 3",
   "language": "python",
   "name": "python3"
  },
  "language_info": {
   "codemirror_mode": {
    "name": "ipython",
    "version": 3
   },
   "file_extension": ".py",
   "mimetype": "text/x-python",
   "name": "python",
   "nbconvert_exporter": "python",
   "pygments_lexer": "ipython3",
   "version": "3.7.7"
  }
 },
 "nbformat": 4,
 "nbformat_minor": 4
}
