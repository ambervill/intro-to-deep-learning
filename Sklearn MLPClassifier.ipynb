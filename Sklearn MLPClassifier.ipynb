{
 "cells": [
  {
   "cell_type": "markdown",
   "metadata": {},
   "source": [
    "# Нейронные сети. Реализация в SKLearn."
   ]
  },
  {
   "cell_type": "code",
   "execution_count": 78,
   "metadata": {},
   "outputs": [],
   "source": [
    "import numpy as np\n",
    "import pandas as pd\n",
    "from sklearn import datasets\n",
    "from sklearn.neural_network import MLPClassifier\n",
    "from sklearn.model_selection import train_test_split, cross_validate, cross_val_score\n",
    "import matplotlib.pyplot as plt\n",
    "from sklearn.metrics import confusion_matrix\n",
    "from sklearn.preprocessing import StandardScaler\n",
    "import warnings\n",
    "warnings.filterwarnings('ignore')"
   ]
  },
  {
   "cell_type": "code",
   "execution_count": 90,
   "metadata": {},
   "outputs": [],
   "source": [
    "X, y = datasets.load_wine(return_X_y=True)"
   ]
  },
  {
   "cell_type": "code",
   "execution_count": 91,
   "metadata": {},
   "outputs": [
    {
     "data": {
      "text/plain": [
       "(178, 13)"
      ]
     },
     "execution_count": 91,
     "metadata": {},
     "output_type": "execute_result"
    }
   ],
   "source": [
    "X.shape"
   ]
  },
  {
   "cell_type": "code",
   "execution_count": 92,
   "metadata": {},
   "outputs": [],
   "source": [
    "X = StandardScaler().fit_transform(X)\n"
   ]
  },
  {
   "cell_type": "code",
   "execution_count": 93,
   "metadata": {},
   "outputs": [],
   "source": [
    "X_train, X_test, y_train, y_test = train_test_split(X, y)"
   ]
  },
  {
   "cell_type": "code",
   "execution_count": 94,
   "metadata": {},
   "outputs": [],
   "source": [
    "mlp = MLPClassifier(hidden_layer_sizes=(5,4),max_iter=500, verbose = True)"
   ]
  },
  {
   "cell_type": "code",
   "execution_count": 95,
   "metadata": {
    "scrolled": true
   },
   "outputs": [
    {
     "name": "stdout",
     "output_type": "stream",
     "text": [
      "Iteration 1, loss = 1.21685202\n",
      "Iteration 2, loss = 1.21393400\n",
      "Iteration 3, loss = 1.21121829\n",
      "Iteration 4, loss = 1.20865809\n",
      "Iteration 5, loss = 1.20612385\n",
      "Iteration 6, loss = 1.20361074\n",
      "Iteration 7, loss = 1.20110484\n",
      "Iteration 8, loss = 1.19859973\n",
      "Iteration 9, loss = 1.19611903\n",
      "Iteration 10, loss = 1.19366322\n",
      "Iteration 11, loss = 1.19123016\n",
      "Iteration 12, loss = 1.18887747\n",
      "Iteration 13, loss = 1.18655062\n",
      "Iteration 14, loss = 1.18424188\n",
      "Iteration 15, loss = 1.18193875\n",
      "Iteration 16, loss = 1.17966163\n",
      "Iteration 17, loss = 1.17746265\n",
      "Iteration 18, loss = 1.17528020\n",
      "Iteration 19, loss = 1.17311648\n",
      "Iteration 20, loss = 1.17097433\n",
      "Iteration 21, loss = 1.16890547\n",
      "Iteration 22, loss = 1.16695974\n",
      "Iteration 23, loss = 1.16503600\n",
      "Iteration 24, loss = 1.16313626\n",
      "Iteration 25, loss = 1.16129541\n",
      "Iteration 26, loss = 1.15950556\n",
      "Iteration 27, loss = 1.15773798\n",
      "Iteration 28, loss = 1.15599813\n",
      "Iteration 29, loss = 1.15426411\n",
      "Iteration 30, loss = 1.15256047\n",
      "Iteration 31, loss = 1.15088207\n",
      "Iteration 32, loss = 1.14919360\n",
      "Iteration 33, loss = 1.14747922\n",
      "Iteration 34, loss = 1.14575934\n",
      "Iteration 35, loss = 1.14403641\n",
      "Iteration 36, loss = 1.14238113\n",
      "Iteration 37, loss = 1.14073415\n",
      "Iteration 38, loss = 1.13907880\n",
      "Iteration 39, loss = 1.13741118\n",
      "Iteration 40, loss = 1.13573264\n",
      "Iteration 41, loss = 1.13403275\n",
      "Iteration 42, loss = 1.13231979\n",
      "Iteration 43, loss = 1.13058905\n",
      "Iteration 44, loss = 1.12885917\n",
      "Iteration 45, loss = 1.12712025\n",
      "Iteration 46, loss = 1.12537285\n",
      "Iteration 47, loss = 1.12359922\n",
      "Iteration 48, loss = 1.12181125\n",
      "Iteration 49, loss = 1.12000648\n",
      "Iteration 50, loss = 1.11818965\n",
      "Iteration 51, loss = 1.11635788\n",
      "Iteration 52, loss = 1.11451904\n",
      "Iteration 53, loss = 1.11265277\n",
      "Iteration 54, loss = 1.11074892\n",
      "Iteration 55, loss = 1.10882637\n",
      "Iteration 56, loss = 1.10688466\n",
      "Iteration 57, loss = 1.10491106\n",
      "Iteration 58, loss = 1.10290615\n",
      "Iteration 59, loss = 1.10087860\n",
      "Iteration 60, loss = 1.09884155\n",
      "Iteration 61, loss = 1.09676933\n",
      "Iteration 62, loss = 1.09469263\n",
      "Iteration 63, loss = 1.09260124\n",
      "Iteration 64, loss = 1.09048518\n",
      "Iteration 65, loss = 1.08834748\n",
      "Iteration 66, loss = 1.08616794\n",
      "Iteration 67, loss = 1.08396403\n",
      "Iteration 68, loss = 1.08173561\n",
      "Iteration 69, loss = 1.07948476\n",
      "Iteration 70, loss = 1.07718863\n",
      "Iteration 71, loss = 1.07488149\n",
      "Iteration 72, loss = 1.07255669\n",
      "Iteration 73, loss = 1.07022388\n",
      "Iteration 74, loss = 1.06786665\n",
      "Iteration 75, loss = 1.06547149\n",
      "Iteration 76, loss = 1.06301720\n",
      "Iteration 77, loss = 1.06053887\n",
      "Iteration 78, loss = 1.05801896\n",
      "Iteration 79, loss = 1.05541664\n",
      "Iteration 80, loss = 1.05277688\n",
      "Iteration 81, loss = 1.05009135\n",
      "Iteration 82, loss = 1.04737090\n",
      "Iteration 83, loss = 1.04464150\n",
      "Iteration 84, loss = 1.04187697\n",
      "Iteration 85, loss = 1.03903246\n",
      "Iteration 86, loss = 1.03615274\n",
      "Iteration 87, loss = 1.03325721\n",
      "Iteration 88, loss = 1.03034742\n",
      "Iteration 89, loss = 1.02740542\n",
      "Iteration 90, loss = 1.02442412\n",
      "Iteration 91, loss = 1.02142711\n",
      "Iteration 92, loss = 1.01841124\n",
      "Iteration 93, loss = 1.01534841\n",
      "Iteration 94, loss = 1.01223522\n",
      "Iteration 95, loss = 1.00909235\n",
      "Iteration 96, loss = 1.00593416\n",
      "Iteration 97, loss = 1.00273553\n",
      "Iteration 98, loss = 0.99951869\n",
      "Iteration 99, loss = 0.99628453\n",
      "Iteration 100, loss = 0.99302878\n",
      "Iteration 101, loss = 0.98977974\n",
      "Iteration 102, loss = 0.98652021\n",
      "Iteration 103, loss = 0.98323508\n",
      "Iteration 104, loss = 0.97985630\n",
      "Iteration 105, loss = 0.97644912\n",
      "Iteration 106, loss = 0.97298627\n",
      "Iteration 107, loss = 0.96949425\n",
      "Iteration 108, loss = 0.96597952\n",
      "Iteration 109, loss = 0.96244666\n",
      "Iteration 110, loss = 0.95884471\n",
      "Iteration 111, loss = 0.95521183\n",
      "Iteration 112, loss = 0.95154896\n",
      "Iteration 113, loss = 0.94785879\n",
      "Iteration 114, loss = 0.94409589\n",
      "Iteration 115, loss = 0.94033276\n",
      "Iteration 116, loss = 0.93656158\n",
      "Iteration 117, loss = 0.93273923\n",
      "Iteration 118, loss = 0.92890842\n",
      "Iteration 119, loss = 0.92504669\n",
      "Iteration 120, loss = 0.92113756\n",
      "Iteration 121, loss = 0.91718103\n",
      "Iteration 122, loss = 0.91316844\n",
      "Iteration 123, loss = 0.90915348\n",
      "Iteration 124, loss = 0.90512720\n",
      "Iteration 125, loss = 0.90107638\n",
      "Iteration 126, loss = 0.89701559\n",
      "Iteration 127, loss = 0.89290573\n",
      "Iteration 128, loss = 0.88878735\n",
      "Iteration 129, loss = 0.88465422\n",
      "Iteration 130, loss = 0.88052538\n",
      "Iteration 131, loss = 0.87636958\n",
      "Iteration 132, loss = 0.87213456\n",
      "Iteration 133, loss = 0.86789146\n",
      "Iteration 134, loss = 0.86363598\n",
      "Iteration 135, loss = 0.85936960\n",
      "Iteration 136, loss = 0.85502991\n",
      "Iteration 137, loss = 0.85063854\n",
      "Iteration 138, loss = 0.84622610\n",
      "Iteration 139, loss = 0.84173011\n",
      "Iteration 140, loss = 0.83720288\n",
      "Iteration 141, loss = 0.83266183\n",
      "Iteration 142, loss = 0.82811256\n",
      "Iteration 143, loss = 0.82342843\n",
      "Iteration 144, loss = 0.81870916\n",
      "Iteration 145, loss = 0.81386275\n",
      "Iteration 146, loss = 0.80897416\n",
      "Iteration 147, loss = 0.80404756\n",
      "Iteration 148, loss = 0.79899957\n",
      "Iteration 149, loss = 0.79378308\n",
      "Iteration 150, loss = 0.78844805\n",
      "Iteration 151, loss = 0.78309521\n",
      "Iteration 152, loss = 0.77765368\n",
      "Iteration 153, loss = 0.77218781\n",
      "Iteration 154, loss = 0.76670210\n",
      "Iteration 155, loss = 0.76120214\n",
      "Iteration 156, loss = 0.75570467\n",
      "Iteration 157, loss = 0.75021216\n",
      "Iteration 158, loss = 0.74468953\n",
      "Iteration 159, loss = 0.73907710\n",
      "Iteration 160, loss = 0.73344849\n",
      "Iteration 161, loss = 0.72777286\n",
      "Iteration 162, loss = 0.72190672\n",
      "Iteration 163, loss = 0.71591122\n",
      "Iteration 164, loss = 0.70979398\n",
      "Iteration 165, loss = 0.70366559\n",
      "Iteration 166, loss = 0.69755310\n",
      "Iteration 167, loss = 0.69161382\n",
      "Iteration 168, loss = 0.68566685\n",
      "Iteration 169, loss = 0.67971753\n",
      "Iteration 170, loss = 0.67379036\n",
      "Iteration 171, loss = 0.66789027\n",
      "Iteration 172, loss = 0.66203897\n",
      "Iteration 173, loss = 0.65624577\n",
      "Iteration 174, loss = 0.65051457\n",
      "Iteration 175, loss = 0.64485890\n",
      "Iteration 176, loss = 0.63924521\n",
      "Iteration 177, loss = 0.63367461\n",
      "Iteration 178, loss = 0.62813355\n",
      "Iteration 179, loss = 0.62255538\n",
      "Iteration 180, loss = 0.61694390\n",
      "Iteration 181, loss = 0.61129356\n",
      "Iteration 182, loss = 0.60559201\n",
      "Iteration 183, loss = 0.59989199\n",
      "Iteration 184, loss = 0.59424696\n",
      "Iteration 185, loss = 0.58861738\n",
      "Iteration 186, loss = 0.58300877\n",
      "Iteration 187, loss = 0.57743263\n",
      "Iteration 188, loss = 0.57188472\n",
      "Iteration 189, loss = 0.56637505\n",
      "Iteration 190, loss = 0.56090173\n",
      "Iteration 191, loss = 0.55551059\n",
      "Iteration 192, loss = 0.55004366\n",
      "Iteration 193, loss = 0.54457724\n",
      "Iteration 194, loss = 0.53910067\n",
      "Iteration 195, loss = 0.53365943\n",
      "Iteration 196, loss = 0.52825624\n",
      "Iteration 197, loss = 0.52290136\n",
      "Iteration 198, loss = 0.51758574\n",
      "Iteration 199, loss = 0.51235043\n",
      "Iteration 200, loss = 0.50717812\n",
      "Iteration 201, loss = 0.50205764\n",
      "Iteration 202, loss = 0.49697961\n",
      "Iteration 203, loss = 0.49182867\n",
      "Iteration 204, loss = 0.48669437\n",
      "Iteration 205, loss = 0.48159915\n",
      "Iteration 206, loss = 0.47654342\n",
      "Iteration 207, loss = 0.47155600\n",
      "Iteration 208, loss = 0.46661786\n",
      "Iteration 209, loss = 0.46172277\n",
      "Iteration 210, loss = 0.45686645\n",
      "Iteration 211, loss = 0.45205935\n",
      "Iteration 212, loss = 0.44729864\n",
      "Iteration 213, loss = 0.44256507\n",
      "Iteration 214, loss = 0.43788177\n",
      "Iteration 215, loss = 0.43325752\n",
      "Iteration 216, loss = 0.42869033\n",
      "Iteration 217, loss = 0.42417857\n",
      "Iteration 218, loss = 0.41972126\n",
      "Iteration 219, loss = 0.41532222\n",
      "Iteration 220, loss = 0.41098811\n",
      "Iteration 221, loss = 0.40670993\n",
      "Iteration 222, loss = 0.40248918\n",
      "Iteration 223, loss = 0.39832377\n",
      "Iteration 224, loss = 0.39421298\n",
      "Iteration 225, loss = 0.39015677\n",
      "Iteration 226, loss = 0.38615506\n",
      "Iteration 227, loss = 0.38220709\n",
      "Iteration 228, loss = 0.37830398\n",
      "Iteration 229, loss = 0.37445060\n",
      "Iteration 230, loss = 0.37064938\n",
      "Iteration 231, loss = 0.36681712\n",
      "Iteration 232, loss = 0.36295192\n",
      "Iteration 233, loss = 0.35912807\n",
      "Iteration 234, loss = 0.35535407\n",
      "Iteration 235, loss = 0.35153374\n",
      "Iteration 236, loss = 0.34774787\n",
      "Iteration 237, loss = 0.34400563\n",
      "Iteration 238, loss = 0.34030729\n",
      "Iteration 239, loss = 0.33668153\n",
      "Iteration 240, loss = 0.33310884\n",
      "Iteration 241, loss = 0.32958608\n",
      "Iteration 242, loss = 0.32611548\n",
      "Iteration 243, loss = 0.32271470\n",
      "Iteration 244, loss = 0.31937107\n",
      "Iteration 245, loss = 0.31607523\n",
      "Iteration 246, loss = 0.31282652\n",
      "Iteration 247, loss = 0.30962514\n",
      "Iteration 248, loss = 0.30646730\n",
      "Iteration 249, loss = 0.30333787\n",
      "Iteration 250, loss = 0.30023630\n",
      "Iteration 251, loss = 0.29717778\n",
      "Iteration 252, loss = 0.29416237\n",
      "Iteration 253, loss = 0.29119552\n",
      "Iteration 254, loss = 0.28827845\n",
      "Iteration 255, loss = 0.28540449\n",
      "Iteration 256, loss = 0.28257366\n",
      "Iteration 257, loss = 0.27978472\n",
      "Iteration 258, loss = 0.27703738\n",
      "Iteration 259, loss = 0.27433066\n",
      "Iteration 260, loss = 0.27166423\n",
      "Iteration 261, loss = 0.26903778\n",
      "Iteration 262, loss = 0.26645199\n",
      "Iteration 263, loss = 0.26391973\n",
      "Iteration 264, loss = 0.26143237\n",
      "Iteration 265, loss = 0.25898238\n",
      "Iteration 266, loss = 0.25656939\n",
      "Iteration 267, loss = 0.25419359\n",
      "Iteration 268, loss = 0.25185550\n",
      "Iteration 269, loss = 0.24955898\n",
      "Iteration 270, loss = 0.24729854\n",
      "Iteration 271, loss = 0.24507339\n",
      "Iteration 272, loss = 0.24288408\n",
      "Iteration 273, loss = 0.24073214\n",
      "Iteration 274, loss = 0.23861433\n",
      "Iteration 275, loss = 0.23653013\n",
      "Iteration 276, loss = 0.23447882\n",
      "Iteration 277, loss = 0.23245938\n",
      "Iteration 278, loss = 0.23047112\n",
      "Iteration 279, loss = 0.22851351\n",
      "Iteration 280, loss = 0.22658613\n",
      "Iteration 281, loss = 0.22468896\n",
      "Iteration 282, loss = 0.22282102\n",
      "Iteration 283, loss = 0.22098152\n",
      "Iteration 284, loss = 0.21915224\n",
      "Iteration 285, loss = 0.21728565\n",
      "Iteration 286, loss = 0.21543688\n",
      "Iteration 287, loss = 0.21361264\n",
      "Iteration 288, loss = 0.21178559\n",
      "Iteration 289, loss = 0.20996720\n",
      "Iteration 290, loss = 0.20816530\n",
      "Iteration 291, loss = 0.20638078\n",
      "Iteration 292, loss = 0.20461553\n",
      "Iteration 293, loss = 0.20290220\n",
      "Iteration 294, loss = 0.20123308\n",
      "Iteration 295, loss = 0.19958450\n",
      "Iteration 296, loss = 0.19795601\n",
      "Iteration 297, loss = 0.19634758\n",
      "Iteration 298, loss = 0.19475891\n",
      "Iteration 299, loss = 0.19319069\n",
      "Iteration 300, loss = 0.19164223\n",
      "Iteration 301, loss = 0.19011702\n",
      "Iteration 302, loss = 0.18862613\n",
      "Iteration 303, loss = 0.18715819\n",
      "Iteration 304, loss = 0.18571183\n",
      "Iteration 305, loss = 0.18429513\n",
      "Iteration 306, loss = 0.18290619\n",
      "Iteration 307, loss = 0.18153571\n",
      "Iteration 308, loss = 0.18018905\n",
      "Iteration 309, loss = 0.17886673\n",
      "Iteration 310, loss = 0.17756792\n",
      "Iteration 311, loss = 0.17628807\n",
      "Iteration 312, loss = 0.17502412\n",
      "Iteration 313, loss = 0.17377576\n",
      "Iteration 314, loss = 0.17254278\n",
      "Iteration 315, loss = 0.17132491\n",
      "Iteration 316, loss = 0.17012188\n",
      "Iteration 317, loss = 0.16893345\n",
      "Iteration 318, loss = 0.16775936\n",
      "Iteration 319, loss = 0.16659935\n",
      "Iteration 320, loss = 0.16545827\n",
      "Iteration 321, loss = 0.16433931\n",
      "Iteration 322, loss = 0.16323325\n",
      "Iteration 323, loss = 0.16211154\n",
      "Iteration 324, loss = 0.16099819\n",
      "Iteration 325, loss = 0.15987695\n",
      "Iteration 326, loss = 0.15875693\n",
      "Iteration 327, loss = 0.15764376\n",
      "Iteration 328, loss = 0.15653820\n",
      "Iteration 329, loss = 0.15544090\n",
      "Iteration 330, loss = 0.15435242\n",
      "Iteration 331, loss = 0.15327325\n",
      "Iteration 332, loss = 0.15220379\n",
      "Iteration 333, loss = 0.15114005\n",
      "Iteration 334, loss = 0.15007139\n",
      "Iteration 335, loss = 0.14900479\n",
      "Iteration 336, loss = 0.14794512\n",
      "Iteration 337, loss = 0.14689317\n",
      "Iteration 338, loss = 0.14584808\n",
      "Iteration 339, loss = 0.14481142\n",
      "Iteration 340, loss = 0.14379491\n",
      "Iteration 341, loss = 0.14278806\n",
      "Iteration 342, loss = 0.14179054\n",
      "Iteration 343, loss = 0.14080278\n",
      "Iteration 344, loss = 0.13982585\n",
      "Iteration 345, loss = 0.13885885\n",
      "Iteration 346, loss = 0.13790194\n",
      "Iteration 347, loss = 0.13695546\n",
      "Iteration 348, loss = 0.13599409\n",
      "Iteration 349, loss = 0.13502569\n",
      "Iteration 350, loss = 0.13407035\n",
      "Iteration 351, loss = 0.13311974\n",
      "Iteration 352, loss = 0.13217412\n",
      "Iteration 353, loss = 0.13123767\n",
      "Iteration 354, loss = 0.13031545\n",
      "Iteration 355, loss = 0.12945811\n",
      "Iteration 356, loss = 0.12861230\n",
      "Iteration 357, loss = 0.12777502\n",
      "Iteration 358, loss = 0.12694607\n",
      "Iteration 359, loss = 0.12612592\n",
      "Iteration 360, loss = 0.12531401\n",
      "Iteration 361, loss = 0.12451056\n",
      "Iteration 362, loss = 0.12371633\n",
      "Iteration 363, loss = 0.12292875\n",
      "Iteration 364, loss = 0.12215094\n",
      "Iteration 365, loss = 0.12138079\n",
      "Iteration 366, loss = 0.12061863\n",
      "Iteration 367, loss = 0.11986500\n",
      "Iteration 368, loss = 0.11911794\n",
      "Iteration 369, loss = 0.11837918\n",
      "Iteration 370, loss = 0.11764759\n",
      "Iteration 371, loss = 0.11692480\n",
      "Iteration 372, loss = 0.11620703\n",
      "Iteration 373, loss = 0.11549781\n",
      "Iteration 374, loss = 0.11479538\n",
      "Iteration 375, loss = 0.11410101\n",
      "Iteration 376, loss = 0.11341207\n",
      "Iteration 377, loss = 0.11273093\n",
      "Iteration 378, loss = 0.11205621\n",
      "Iteration 379, loss = 0.11138854\n",
      "Iteration 380, loss = 0.11072789\n",
      "Iteration 381, loss = 0.11007499\n",
      "Iteration 382, loss = 0.10942811\n",
      "Iteration 383, loss = 0.10878810\n",
      "Iteration 384, loss = 0.10815385\n",
      "Iteration 385, loss = 0.10752747\n",
      "Iteration 386, loss = 0.10690513\n",
      "Iteration 387, loss = 0.10628910\n",
      "Iteration 388, loss = 0.10567965\n",
      "Iteration 389, loss = 0.10507502\n",
      "Iteration 390, loss = 0.10447507\n",
      "Iteration 391, loss = 0.10388371\n",
      "Iteration 392, loss = 0.10329588\n",
      "Iteration 393, loss = 0.10271128\n",
      "Iteration 394, loss = 0.10213336\n",
      "Iteration 395, loss = 0.10156195\n",
      "Iteration 396, loss = 0.10099466\n",
      "Iteration 397, loss = 0.10043151\n",
      "Iteration 398, loss = 0.09987252\n",
      "Iteration 399, loss = 0.09932163\n",
      "Iteration 400, loss = 0.09877467\n",
      "Iteration 401, loss = 0.09823441\n",
      "Iteration 402, loss = 0.09770370\n",
      "Iteration 403, loss = 0.09713926\n",
      "Iteration 404, loss = 0.09656654\n",
      "Iteration 405, loss = 0.09598956\n",
      "Iteration 406, loss = 0.09540941\n",
      "Iteration 407, loss = 0.09482786\n",
      "Iteration 408, loss = 0.09424610\n",
      "Iteration 409, loss = 0.09366377\n",
      "Iteration 410, loss = 0.09308209\n",
      "Iteration 411, loss = 0.09250093\n",
      "Iteration 412, loss = 0.09192085\n",
      "Iteration 413, loss = 0.09134237\n",
      "Iteration 414, loss = 0.09076602\n",
      "Iteration 415, loss = 0.09019343\n",
      "Iteration 416, loss = 0.08962172\n",
      "Iteration 417, loss = 0.08905493\n",
      "Iteration 418, loss = 0.08849226\n",
      "Iteration 419, loss = 0.08793474\n",
      "Iteration 420, loss = 0.08738114\n",
      "Iteration 421, loss = 0.08683155\n",
      "Iteration 422, loss = 0.08628609\n",
      "Iteration 423, loss = 0.08574483\n",
      "Iteration 424, loss = 0.08520782\n",
      "Iteration 425, loss = 0.08467511\n",
      "Iteration 426, loss = 0.08414678\n",
      "Iteration 427, loss = 0.08360388\n",
      "Iteration 428, loss = 0.08305729\n",
      "Iteration 429, loss = 0.08250974\n",
      "Iteration 430, loss = 0.08196404\n",
      "Iteration 431, loss = 0.08142388\n",
      "Iteration 432, loss = 0.08088551\n",
      "Iteration 433, loss = 0.08034913\n",
      "Iteration 434, loss = 0.07981504\n",
      "Iteration 435, loss = 0.07928348\n",
      "Iteration 436, loss = 0.07875468\n",
      "Iteration 437, loss = 0.07822884\n",
      "Iteration 438, loss = 0.07770611\n",
      "Iteration 439, loss = 0.07718665\n",
      "Iteration 440, loss = 0.07667372\n",
      "Iteration 441, loss = 0.07616126\n",
      "Iteration 442, loss = 0.07565173\n",
      "Iteration 443, loss = 0.07514810\n",
      "Iteration 444, loss = 0.07464811\n",
      "Iteration 445, loss = 0.07415181\n",
      "Iteration 446, loss = 0.07365925\n",
      "Iteration 447, loss = 0.07317053\n",
      "Iteration 448, loss = 0.07269964\n",
      "Iteration 449, loss = 0.07223660\n",
      "Iteration 450, loss = 0.07177905\n",
      "Iteration 451, loss = 0.07132587\n",
      "Iteration 452, loss = 0.07087488\n",
      "Iteration 453, loss = 0.07043144\n",
      "Iteration 454, loss = 0.06999148\n",
      "Iteration 455, loss = 0.06955471\n",
      "Iteration 456, loss = 0.06912112\n",
      "Iteration 457, loss = 0.06869072\n",
      "Iteration 458, loss = 0.06826354\n",
      "Iteration 459, loss = 0.06784278\n",
      "Iteration 460, loss = 0.06742566\n",
      "Iteration 461, loss = 0.06701008\n",
      "Iteration 462, loss = 0.06659759\n",
      "Iteration 463, loss = 0.06619275\n",
      "Iteration 464, loss = 0.06579166\n",
      "Iteration 465, loss = 0.06539320\n",
      "Iteration 466, loss = 0.06499995\n",
      "Iteration 467, loss = 0.06460963\n",
      "Iteration 468, loss = 0.06422098\n",
      "Iteration 469, loss = 0.06383841\n",
      "Iteration 470, loss = 0.06345887\n",
      "Iteration 471, loss = 0.06308161\n",
      "Iteration 472, loss = 0.06270971\n",
      "Iteration 473, loss = 0.06234364\n",
      "Iteration 474, loss = 0.06198485\n",
      "Iteration 475, loss = 0.06162663\n",
      "Iteration 476, loss = 0.06126909\n",
      "Iteration 477, loss = 0.06091250\n",
      "Iteration 478, loss = 0.06055820\n",
      "Iteration 479, loss = 0.06020972\n",
      "Iteration 480, loss = 0.05986262\n",
      "Iteration 481, loss = 0.05951702\n",
      "Iteration 482, loss = 0.05917495\n",
      "Iteration 483, loss = 0.05883617\n",
      "Iteration 484, loss = 0.05849848\n",
      "Iteration 485, loss = 0.05816972\n",
      "Iteration 486, loss = 0.05784446\n",
      "Iteration 487, loss = 0.05752311\n",
      "Iteration 488, loss = 0.05720383\n",
      "Iteration 489, loss = 0.05688980\n",
      "Iteration 490, loss = 0.05657741\n",
      "Iteration 491, loss = 0.05626527\n",
      "Iteration 492, loss = 0.05595823\n",
      "Iteration 493, loss = 0.05565303\n",
      "Iteration 494, loss = 0.05534919\n",
      "Iteration 495, loss = 0.05504682\n",
      "Iteration 496, loss = 0.05474793\n",
      "Iteration 497, loss = 0.05445404\n",
      "Iteration 498, loss = 0.05414974\n",
      "Iteration 499, loss = 0.05383459\n",
      "Iteration 500, loss = 0.05351621\n"
     ]
    },
    {
     "data": {
      "text/plain": [
       "MLPClassifier(activation='relu', alpha=0.0001, batch_size='auto', beta_1=0.9,\n",
       "              beta_2=0.999, early_stopping=False, epsilon=1e-08,\n",
       "              hidden_layer_sizes=(5, 4), learning_rate='constant',\n",
       "              learning_rate_init=0.001, max_iter=500, momentum=0.9,\n",
       "              n_iter_no_change=10, nesterovs_momentum=True, power_t=0.5,\n",
       "              random_state=None, shuffle=True, solver='adam', tol=0.0001,\n",
       "              validation_fraction=0.1, verbose=True, warm_start=False)"
      ]
     },
     "execution_count": 95,
     "metadata": {},
     "output_type": "execute_result"
    }
   ],
   "source": [
    "mlp.fit(X_train, y_train)"
   ]
  },
  {
   "cell_type": "markdown",
   "metadata": {},
   "source": [
    "Итоговое значение функции потерь:"
   ]
  },
  {
   "cell_type": "code",
   "execution_count": 96,
   "metadata": {},
   "outputs": [
    {
     "data": {
      "text/plain": [
       "0.053516208217969506"
      ]
     },
     "execution_count": 96,
     "metadata": {},
     "output_type": "execute_result"
    }
   ],
   "source": [
    "mlp.loss_"
   ]
  },
  {
   "cell_type": "markdown",
   "metadata": {},
   "source": [
    "Веса обученной сети:"
   ]
  },
  {
   "cell_type": "code",
   "execution_count": 49,
   "metadata": {
    "scrolled": false
   },
   "outputs": [
    {
     "data": {
      "text/plain": [
       "[array([[ 0.30574609, -0.19714709,  0.50610916, -0.05626513, -0.40668055],\n",
       "        [ 0.4912466 , -0.28107091, -0.69433642,  0.04078381, -0.79083917],\n",
       "        [ 0.05495846,  0.2681093 ,  0.22608961,  0.23754038, -0.4105116 ],\n",
       "        [-0.15943474, -0.7868783 , -0.13716481,  0.03293111,  0.56226087],\n",
       "        [ 0.54313145,  0.30666369, -0.33652811,  0.02367729, -0.01486996],\n",
       "        [ 0.2289214 ,  0.68112379, -0.22668036, -0.2149467 , -0.11277103],\n",
       "        [-0.67958365,  0.19871664,  0.25308983, -0.69265737,  0.26620023],\n",
       "        [ 0.46695792, -0.41321798,  0.76343207,  0.38976038, -0.13175751],\n",
       "        [-0.53364807,  0.56452088, -0.16693785, -0.29240707,  0.45208656],\n",
       "        [ 0.85215914, -0.09305955, -0.25789191, -0.19955093, -0.24876572],\n",
       "        [-0.43671167,  0.10385784,  0.69823464, -0.66664573,  0.00726848],\n",
       "        [ 0.25663985, -0.03488315, -0.15412977, -0.45736562, -0.00727292],\n",
       "        [ 0.34411874,  0.74243244,  0.45802669,  0.03354295, -0.82216451]]),\n",
       " array([[-0.33268078, -0.51615102, -0.27768607,  0.77991627],\n",
       "        [ 0.09485384, -0.28482563,  0.64333475, -0.85196612],\n",
       "        [-0.23628524,  0.68658082,  0.71484848, -0.54829343],\n",
       "        [-0.40829573,  0.52870919, -0.51040688,  0.88100768],\n",
       "        [ 1.05046934,  0.52975026, -1.04909651,  0.38607737]]),\n",
       " array([[ 0.07909977,  1.08566651, -1.07965704],\n",
       "        [-0.53416324,  1.09664551, -0.19694422],\n",
       "        [ 1.12180243, -0.27255678, -0.10914697],\n",
       "        [-0.1021379 ,  0.110297  ,  1.06867059]])]"
      ]
     },
     "execution_count": 49,
     "metadata": {},
     "output_type": "execute_result"
    }
   ],
   "source": [
    "mlp.coefs_"
   ]
  },
  {
   "cell_type": "markdown",
   "metadata": {},
   "source": [
    "Применение полученного нейросетевого классификатора:"
   ]
  },
  {
   "cell_type": "code",
   "execution_count": 70,
   "metadata": {},
   "outputs": [],
   "source": [
    "y_pred = mlp.predict(X_test)"
   ]
  },
  {
   "cell_type": "code",
   "execution_count": 77,
   "metadata": {},
   "outputs": [
    {
     "data": {
      "text/plain": [
       "array([0, 1, 1, 1, 1, 0, 2, 2, 0, 0, 1, 1, 0, 2, 1, 1, 0, 2, 2, 0, 2, 1,\n",
       "       2, 0, 2, 1, 2, 2, 2, 2, 0, 0, 0, 1, 1, 0, 2, 0, 0, 2, 0, 0, 1, 0,\n",
       "       2])"
      ]
     },
     "execution_count": 77,
     "metadata": {},
     "output_type": "execute_result"
    }
   ],
   "source": [
    "y_pred"
   ]
  },
  {
   "cell_type": "code",
   "execution_count": 71,
   "metadata": {},
   "outputs": [
    {
     "data": {
      "text/plain": [
       "array([[17,  0,  0],\n",
       "       [ 0, 12,  1],\n",
       "       [ 0,  1, 14]])"
      ]
     },
     "execution_count": 71,
     "metadata": {},
     "output_type": "execute_result"
    }
   ],
   "source": [
    "confusion_matrix(y_pred, y_test)"
   ]
  },
  {
   "cell_type": "markdown",
   "metadata": {},
   "source": [
    "### Выбор количества итераций обучения"
   ]
  },
  {
   "cell_type": "code",
   "execution_count": 51,
   "metadata": {
    "scrolled": true
   },
   "outputs": [],
   "source": [
    "train_scores = []\n",
    "test_scores = []\n",
    "number_of_iterations = np.arange(10,300,20)\n",
    "for iters in number_of_iterations:\n",
    "    clf = MLPClassifier(hidden_layer_sizes=(15,10), max_iter=iters, tol=0.001, random_state=1)\n",
    "    cv_results = cross_validate(clf, X, y, cv=4, verbose=0, return_train_score=True)\n",
    "    train_scores.append(np.mean(cv_results['train_score']))\n",
    "    test_scores.append(np.mean(cv_results['test_score']))"
   ]
  },
  {
   "cell_type": "code",
   "execution_count": 52,
   "metadata": {},
   "outputs": [
    {
     "data": {
      "image/png": "[encoded data removed]",
      "text/plain": [
       "<Figure size 432x288 with 1 Axes>"
      ]
     },
     "metadata": {
      "needs_background": "light"
     },
     "output_type": "display_data"
    }
   ],
   "source": [
    "plt.plot(number_of_iterations, train_scores, 'o-', color=\"r\")\n",
    "plt.plot(number_of_iterations, test_scores, 'o-', color=\"g\")\n",
    "plt.show()"
   ]
  },
  {
   "cell_type": "markdown",
   "metadata": {},
   "source": [
    "Наблюдается небольшое переобучение. Оптимальное значение количества итераций - около 200."
   ]
  },
  {
   "cell_type": "markdown",
   "metadata": {},
   "source": [
    "### Выбор параметра L2-регуляризации"
   ]
  },
  {
   "cell_type": "code",
   "execution_count": 53,
   "metadata": {},
   "outputs": [],
   "source": [
    "np_means = []\n",
    "alphas = np.linspace(0,10,40)\n",
    "for alpha in alphas:\n",
    "    clf = MLPClassifier(hidden_layer_sizes=(15,10), max_iter=250, tol=0.001, alpha = alpha, random_state=1)\n",
    "    cv_results = cross_validate(clf, X, y, cv=4, verbose=0)\n",
    "    np_means.append(np.mean(cv_results['test_score']))"
   ]
  },
  {
   "cell_type": "code",
   "execution_count": 54,
   "metadata": {
    "scrolled": true
   },
   "outputs": [
    {
     "data": {
      "image/png": "[encoded data removed]",
      "text/plain": [
       "<Figure size 432x288 with 1 Axes>"
      ]
     },
     "metadata": {
      "needs_background": "light"
     },
     "output_type": "display_data"
    }
   ],
   "source": [
    "plt.plot(alphas, np_means, 'o-', color=\"r\")\n",
    "plt.show()"
   ]
  },
  {
   "cell_type": "markdown",
   "metadata": {},
   "source": [
    "Оптимальное значение alpha - около 4."
   ]
  },
  {
   "cell_type": "markdown",
   "metadata": {},
   "source": [
    "### Выбор величины пакета"
   ]
  },
  {
   "cell_type": "code",
   "execution_count": 76,
   "metadata": {},
   "outputs": [
    {
     "name": "stdout",
     "output_type": "stream",
     "text": [
      "Batch size: 10\n",
      "Confusion matrix:\n",
      "[[ 0  0  0]\n",
      " [17 13 15]\n",
      " [ 0  0  0]]\n",
      "\n",
      "Batch size: 30\n",
      "Confusion matrix:\n",
      "[[17  0  0]\n",
      " [ 0 13  1]\n",
      " [ 0  0 14]]\n",
      "\n",
      "Batch size: 60\n",
      "Confusion matrix:\n",
      "[[17  0  0]\n",
      " [ 0 13  0]\n",
      " [ 0  0 15]]\n",
      "\n",
      "Batch size: 100\n",
      "Confusion matrix:\n",
      "[[17  0  0]\n",
      " [ 0 13  0]\n",
      " [ 0  0 15]]\n",
      "\n"
     ]
    }
   ],
   "source": [
    "np_means = []\n",
    "loss_curves = []\n",
    "batch_sizes = [10,30,60,100]\n",
    "for batch_size in batch_sizes:\n",
    "    clf = MLPClassifier(hidden_layer_sizes=(15,10), \n",
    "                        max_iter=250, \n",
    "                        tol=0.001, \n",
    "                        alpha = 4, \n",
    "                        batch_size = batch_size,\n",
    "                        random_state=1)\n",
    "    clf.fit(X_train, y_train)\n",
    "    loss_curves.append(clf.loss_curve_)\n",
    "    y_pred = clf.predict(X_test)\n",
    "    print('Batch size:', batch_size)\n",
    "    print('Confusion matrix:')\n",
    "    print(confusion_matrix(y_pred, y_test), end = '\\n\\n')\n",
    "    "
   ]
  },
  {
   "cell_type": "code",
   "execution_count": 61,
   "metadata": {},
   "outputs": [
    {
     "data": {
      "image/png": "[encoded data removed]",
      "text/plain": [
       "<Figure size 960x480 with 1 Axes>"
      ]
     },
     "metadata": {
      "needs_background": "light"
     },
     "output_type": "display_data"
    }
   ],
   "source": [
    "plt.figure(figsize=(12, 6), dpi=80)\n",
    "plt.plot(np.arange(3, len(loss_curves[0])), loss_curves[0][3:], label='Batch size: 10')\n",
    "plt.plot(np.arange(3, len(loss_curves[1])), loss_curves[1][3:], label='Batch size: 30')\n",
    "plt.plot(np.arange(3, len(loss_curves[2])), loss_curves[2][3:], label='Batch size: 60')\n",
    "plt.plot(np.arange(3, len(loss_curves[3])), loss_curves[3][3:], label='Batch size: 100')\n",
    "plt.xlabel('Итерации', size=14)\n",
    "plt.ylabel('Ошибка', size=14)\n",
    "plt.legend(loc='upper right')\n",
    "plt.show();"
   ]
  },
  {
   "cell_type": "markdown",
   "metadata": {},
   "source": [
    "Для выбранного набора данных малые пакеты обеспечивают быструю сходимость, однако большие пакеты в итоге лучше оптимизируют функцию потерь. Пакет в 10 элементов даже не обеспечил правильной работы классификатора."
   ]
  },
  {
   "cell_type": "code",
   "execution_count": null,
   "metadata": {},
   "outputs": [],
   "source": []
  },
  {
   "cell_type": "code",
   "execution_count": null,
   "metadata": {},
   "outputs": [],
   "source": []
  },
  {
   "cell_type": "code",
   "execution_count": null,
   "metadata": {},
   "outputs": [],
   "source": []
  }
 ],
 "metadata": {
  "kernelspec": {
   "display_name": "Python 3",
   "language": "python",
   "name": "python3"
  },
  "language_info": {
   "codemirror_mode": {
    "name": "ipython",
    "version": 3
   },
   "file_extension": ".py",
   "mimetype": "text/x-python",
   "name": "python",
   "nbconvert_exporter": "python",
   "pygments_lexer": "ipython3",
   "version": "3.7.3"
  }
 },
 "nbformat": 4,
 "nbformat_minor": 2
}
