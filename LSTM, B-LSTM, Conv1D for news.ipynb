{
 "cells": [
  {
   "cell_type": "markdown",
   "metadata": {},
   "source": [
    "# Классификация текстов с помощью рекуррентных и сверточных сетей"
   ]
  },
  {
   "cell_type": "markdown",
   "metadata": {},
   "source": [
    "### Простая сеть LSTM"
   ]
  },
  {
   "cell_type": "code",
   "execution_count": 2,
   "metadata": {
    "_cell_guid": "b1076dfc-b9ad-4769-8c92-a6c4dae69d19",
    "_uuid": "8f2839f25d086af736a60e9eeb907d3b93b6e0e5"
   },
   "outputs": [
    {
     "name": "stderr",
     "output_type": "stream",
     "text": [
      "Using TensorFlow backend.\n"
     ]
    }
   ],
   "source": [
    "import numpy as np \n",
    "import pandas as pd\n",
    "from keras.layers import Dense, Embedding, LSTM, SpatialDropout1D\n",
    "from keras.models import Sequential\n",
    "from sklearn.feature_extraction.text import CountVectorizer\n",
    "from keras.preprocessing.text import Tokenizer\n",
    "from keras.preprocessing.sequence import pad_sequences\n",
    "from sklearn.model_selection import train_test_split\n",
    "from keras.utils.np_utils import to_categorical\n",
    "from keras.callbacks import EarlyStopping"
   ]
  },
  {
   "cell_type": "code",
   "execution_count": 3,
   "metadata": {
    "_cell_guid": "79c7e3d0-c299-4dcb-8224-4455121ee9b0",
    "_uuid": "d629ff2d2480ee46fbb7e2d37f6b5fab8052498a"
   },
   "outputs": [],
   "source": [
    "data = pd.read_csv('uci-news-aggregator.csv')"
   ]
  },
  {
   "cell_type": "markdown",
   "metadata": {},
   "source": [
    "https://yadi.sk/d/B5WfVUrFnQXaEg"
   ]
  },
  {
   "cell_type": "code",
   "execution_count": 5,
   "metadata": {
    "_cell_guid": "ea29d595-26b0-4d83-a005-853fa59f4506",
    "_uuid": "acf2450933eb3586930df738829abd2e11646e14"
   },
   "outputs": [
    {
     "data": {
      "text/plain": [
       "e    152469\n",
       "b    115967\n",
       "t    108344\n",
       "m     45639\n",
       "Name: CATEGORY, dtype: int64"
      ]
     },
     "execution_count": 5,
     "metadata": {},
     "output_type": "execute_result"
    }
   ],
   "source": [
    "# Подсчитываем количество образцов каждого класса\n",
    "data.CATEGORY.value_counts()"
   ]
  },
  {
   "cell_type": "code",
   "execution_count": 6,
   "metadata": {
    "_cell_guid": "44de46e2-acce-470d-9c46-624cb0dd15b9",
    "_uuid": "eb9f4766b60f5a23901a8bde1d901ced6c7a3b3e"
   },
   "outputs": [],
   "source": [
    "data['LABEL'] = 0"
   ]
  },
  {
   "cell_type": "code",
   "execution_count": 7,
   "metadata": {},
   "outputs": [
    {
     "data": {
      "text/html": [
       "<div>\n",
       "<style scoped>\n",
       "    .dataframe tbody tr th:only-of-type {\n",
       "        vertical-align: middle;\n",
       "    }\n",
       "\n",
       "    .dataframe tbody tr th {\n",
       "        vertical-align: top;\n",
       "    }\n",
       "\n",
       "    .dataframe thead th {\n",
       "        text-align: right;\n",
       "    }\n",
       "</style>\n",
       "<table border=\"1\" class=\"dataframe\">\n",
       "  <thead>\n",
       "    <tr style=\"text-align: right;\">\n",
       "      <th></th>\n",
       "      <th>ID</th>\n",
       "      <th>TITLE</th>\n",
       "      <th>URL</th>\n",
       "      <th>PUBLISHER</th>\n",
       "      <th>CATEGORY</th>\n",
       "      <th>STORY</th>\n",
       "      <th>HOSTNAME</th>\n",
       "      <th>TIMESTAMP</th>\n",
       "      <th>LABEL</th>\n",
       "    </tr>\n",
       "  </thead>\n",
       "  <tbody>\n",
       "    <tr>\n",
       "      <th>0</th>\n",
       "      <td>1</td>\n",
       "      <td>Fed official says weak data caused by weather,...</td>\n",
       "      <td>http://www.latimes.com/business/money/la-fi-mo...</td>\n",
       "      <td>Los Angeles Times</td>\n",
       "      <td>b</td>\n",
       "      <td>ddUyU0VZz0BRneMioxUPQVP6sIxvM</td>\n",
       "      <td>www.latimes.com</td>\n",
       "      <td>1394470370698</td>\n",
       "      <td>0</td>\n",
       "    </tr>\n",
       "    <tr>\n",
       "      <th>1</th>\n",
       "      <td>2</td>\n",
       "      <td>Fed's Charles Plosser sees high bar for change...</td>\n",
       "      <td>http://www.livemint.com/Politics/H2EvwJSK2VE6O...</td>\n",
       "      <td>Livemint</td>\n",
       "      <td>b</td>\n",
       "      <td>ddUyU0VZz0BRneMioxUPQVP6sIxvM</td>\n",
       "      <td>www.livemint.com</td>\n",
       "      <td>1394470371207</td>\n",
       "      <td>0</td>\n",
       "    </tr>\n",
       "    <tr>\n",
       "      <th>2</th>\n",
       "      <td>3</td>\n",
       "      <td>US open: Stocks fall after Fed official hints ...</td>\n",
       "      <td>http://www.ifamagazine.com/news/us-open-stocks...</td>\n",
       "      <td>IFA Magazine</td>\n",
       "      <td>b</td>\n",
       "      <td>ddUyU0VZz0BRneMioxUPQVP6sIxvM</td>\n",
       "      <td>www.ifamagazine.com</td>\n",
       "      <td>1394470371550</td>\n",
       "      <td>0</td>\n",
       "    </tr>\n",
       "    <tr>\n",
       "      <th>3</th>\n",
       "      <td>4</td>\n",
       "      <td>Fed risks falling 'behind the curve', Charles ...</td>\n",
       "      <td>http://www.ifamagazine.com/news/fed-risks-fall...</td>\n",
       "      <td>IFA Magazine</td>\n",
       "      <td>b</td>\n",
       "      <td>ddUyU0VZz0BRneMioxUPQVP6sIxvM</td>\n",
       "      <td>www.ifamagazine.com</td>\n",
       "      <td>1394470371793</td>\n",
       "      <td>0</td>\n",
       "    </tr>\n",
       "    <tr>\n",
       "      <th>4</th>\n",
       "      <td>5</td>\n",
       "      <td>Fed's Plosser: Nasty Weather Has Curbed Job Gr...</td>\n",
       "      <td>http://www.moneynews.com/Economy/federal-reser...</td>\n",
       "      <td>Moneynews</td>\n",
       "      <td>b</td>\n",
       "      <td>ddUyU0VZz0BRneMioxUPQVP6sIxvM</td>\n",
       "      <td>www.moneynews.com</td>\n",
       "      <td>1394470372027</td>\n",
       "      <td>0</td>\n",
       "    </tr>\n",
       "  </tbody>\n",
       "</table>\n",
       "</div>"
      ],
      "text/plain": [
       "   ID                                              TITLE  \\\n",
       "0   1  Fed official says weak data caused by weather,...   \n",
       "1   2  Fed's Charles Plosser sees high bar for change...   \n",
       "2   3  US open: Stocks fall after Fed official hints ...   \n",
       "3   4  Fed risks falling 'behind the curve', Charles ...   \n",
       "4   5  Fed's Plosser: Nasty Weather Has Curbed Job Gr...   \n",
       "\n",
       "                                                 URL          PUBLISHER  \\\n",
       "0  http://www.latimes.com/business/money/la-fi-mo...  Los Angeles Times   \n",
       "1  http://www.livemint.com/Politics/H2EvwJSK2VE6O...           Livemint   \n",
       "2  http://www.ifamagazine.com/news/us-open-stocks...       IFA Magazine   \n",
       "3  http://www.ifamagazine.com/news/fed-risks-fall...       IFA Magazine   \n",
       "4  http://www.moneynews.com/Economy/federal-reser...          Moneynews   \n",
       "\n",
       "  CATEGORY                          STORY             HOSTNAME      TIMESTAMP  \\\n",
       "0        b  ddUyU0VZz0BRneMioxUPQVP6sIxvM      www.latimes.com  1394470370698   \n",
       "1        b  ddUyU0VZz0BRneMioxUPQVP6sIxvM     www.livemint.com  1394470371207   \n",
       "2        b  ddUyU0VZz0BRneMioxUPQVP6sIxvM  www.ifamagazine.com  1394470371550   \n",
       "3        b  ddUyU0VZz0BRneMioxUPQVP6sIxvM  www.ifamagazine.com  1394470371793   \n",
       "4        b  ddUyU0VZz0BRneMioxUPQVP6sIxvM    www.moneynews.com  1394470372027   \n",
       "\n",
       "   LABEL  \n",
       "0      0  \n",
       "1      0  \n",
       "2      0  \n",
       "3      0  \n",
       "4      0  "
      ]
     },
     "execution_count": 7,
     "metadata": {},
     "output_type": "execute_result"
    }
   ],
   "source": [
    "data.head()"
   ]
  },
  {
   "cell_type": "code",
   "execution_count": 8,
   "metadata": {},
   "outputs": [
    {
     "data": {
      "text/plain": [
       "e    152469\n",
       "b    115967\n",
       "t    108344\n",
       "m     45639\n",
       "Name: CATEGORY, dtype: int64"
      ]
     },
     "execution_count": 8,
     "metadata": {},
     "output_type": "execute_result"
    }
   ],
   "source": [
    "data.CATEGORY.value_counts()"
   ]
  },
  {
   "cell_type": "code",
   "execution_count": 10,
   "metadata": {
    "_cell_guid": "2d3da0fd-6d73-4f3b-b06b-d2bba34bbd4a",
    "_uuid": "60febe37826f220106adf69a51dad124cfae45cc"
   },
   "outputs": [
    {
     "data": {
      "text/plain": [
       "'\\n [1. 0. 0. 0.] e\\n [0. 1. 0. 0.] b\\n [0. 0. 1. 0.] t\\n [0. 0. 0. 1.] m\\n'"
      ]
     },
     "execution_count": 10,
     "metadata": {},
     "output_type": "execute_result"
    }
   ],
   "source": [
    "#One-hot encode the class\n",
    "data.loc[data['CATEGORY'] == 'e', 'LABEL'] = 0\n",
    "data.loc[data['CATEGORY'] == 'b', 'LABEL'] = 1\n",
    "data.loc[data['CATEGORY'] == 't', 'LABEL'] = 2\n",
    "data.loc[data['CATEGORY'] == 'm', 'LABEL'] = 3\n",
    "labels = to_categorical(data['LABEL'], num_classes=4)\n",
    "if 'CATEGORY' in data.keys():\n",
    "    data.drop(['CATEGORY'], axis=1)\n",
    "'''\n",
    " [1. 0. 0. 0.] e\n",
    " [0. 1. 0. 0.] b\n",
    " [0. 0. 1. 0.] t\n",
    " [0. 0. 0. 1.] m\n",
    "'''"
   ]
  },
  {
   "cell_type": "code",
   "execution_count": 11,
   "metadata": {
    "_cell_guid": "40e6281c-2588-4ad0-991c-3d8d40791254",
    "_uuid": "0aa67be64bd63cf4350ce3f62d42c687b3143088"
   },
   "outputs": [
    {
     "name": "stdout",
     "output_type": "stream",
     "text": [
      "Found 75583 unique tokens.\n"
     ]
    }
   ],
   "source": [
    "n_most_common_words = 8000\n",
    "max_len = 130\n",
    "tokenizer = Tokenizer(num_words=n_most_common_words, filters='!\"#$%&()*+,-./:;<=>?@[\\]^_`{|}~', lower=True)\n",
    "tokenizer.fit_on_texts(data['TITLE'].values)\n",
    "sequences = tokenizer.texts_to_sequences(data['TITLE'].values)\n",
    "word_index = tokenizer.word_index\n",
    "print('Found %s unique tokens.' % len(word_index))\n",
    "\n",
    "X = pad_sequences(sequences, maxlen=max_len)"
   ]
  },
  {
   "cell_type": "code",
   "execution_count": 12,
   "metadata": {
    "_cell_guid": "2ca496ca-4bb7-40de-bf69-d86b521af51f",
    "_uuid": "97226bf26ef141c228a1123e125ef7966612db47"
   },
   "outputs": [],
   "source": [
    "X_train, X_test, y_train, y_test = train_test_split(X, labels, test_size=0.25, random_state=42)"
   ]
  },
  {
   "cell_type": "code",
   "execution_count": 13,
   "metadata": {
    "_cell_guid": "4e5bcf7a-4c6b-44fc-963d-415b9338abe4",
    "_uuid": "28940e621602cfd9645a88dd43427b2431c75b5b"
   },
   "outputs": [],
   "source": [
    "epochs = 10\n",
    "emb_dim = 128\n",
    "batch_size = 256\n"
   ]
  },
  {
   "cell_type": "code",
   "execution_count": 14,
   "metadata": {
    "_cell_guid": "79a42a6f-01f4-4e74-b645-321f2a0a6e39",
    "_uuid": "f50c8494777ca5141da8c23bb932e531a82b89d5"
   },
   "outputs": [
    {
     "name": "stdout",
     "output_type": "stream",
     "text": [
      "((316814, 130), (316814, 4), (105605, 130), (105605, 4))\n",
      "Model: \"sequential_1\"\n",
      "_________________________________________________________________\n",
      "Layer (type)                 Output Shape              Param #   \n",
      "=================================================================\n",
      "embedding_1 (Embedding)      (None, 130, 128)          1024000   \n",
      "_________________________________________________________________\n",
      "lstm_1 (LSTM)                (None, 64)                49408     \n",
      "_________________________________________________________________\n",
      "dense_1 (Dense)              (None, 4)                 260       \n",
      "=================================================================\n",
      "Total params: 1,073,668\n",
      "Trainable params: 1,073,668\n",
      "Non-trainable params: 0\n",
      "_________________________________________________________________\n"
     ]
    }
   ],
   "source": [
    "print((X_train.shape, y_train.shape, X_test.shape, y_test.shape))\n",
    "\n",
    "model = Sequential()\n",
    "model.add(Embedding(n_most_common_words, emb_dim, input_length=X.shape[1]))\n",
    "model.add(LSTM(64, dropout=0.5, recurrent_dropout=0.5))\n",
    "model.add(Dense(4, activation='softmax'))\n",
    "model.compile(optimizer='adam', loss='categorical_crossentropy', metrics=['acc'])\n",
    "model.summary()\n"
   ]
  },
  {
   "cell_type": "code",
   "execution_count": 15,
   "metadata": {},
   "outputs": [
    {
     "name": "stderr",
     "output_type": "stream",
     "text": [
      "C:\\Users\\Admin\\.conda\\envs\\tensorflow-37\\lib\\site-packages\\tensorflow_core\\python\\framework\\indexed_slices.py:433: UserWarning: Converting sparse IndexedSlices to a dense Tensor of unknown shape. This may consume a large amount of memory.\n",
      "  \"Converting sparse IndexedSlices to a dense Tensor of unknown shape. \"\n"
     ]
    },
    {
     "name": "stdout",
     "output_type": "stream",
     "text": [
      "Train on 253451 samples, validate on 63363 samples\n",
      "Epoch 1/10\n",
      "253451/253451 [==============================] - 127s 501us/step - loss: 0.3510 - acc: 0.8713 - val_loss: 0.2094 - val_acc: 0.9268\n",
      "Epoch 2/10\n",
      "253451/253451 [==============================] - 135s 533us/step - loss: 0.1984 - acc: 0.9302 - val_loss: 0.1982 - val_acc: 0.9294\n",
      "Epoch 3/10\n",
      "253451/253451 [==============================] - 136s 536us/step - loss: 0.1812 - acc: 0.9353 - val_loss: 0.1943 - val_acc: 0.9318\n",
      "Epoch 4/10\n",
      "253451/253451 [==============================] - 136s 538us/step - loss: 0.1703 - acc: 0.9385 - val_loss: 0.1938 - val_acc: 0.9317\n",
      "Epoch 5/10\n",
      "253451/253451 [==============================] - 136s 537us/step - loss: 0.1617 - acc: 0.9414 - val_loss: 0.1937 - val_acc: 0.9326\n",
      "Epoch 6/10\n",
      "253451/253451 [==============================] - 136s 536us/step - loss: 0.1548 - acc: 0.9434 - val_loss: 0.1941 - val_acc: 0.9328\n",
      "Epoch 7/10\n",
      "253451/253451 [==============================] - 136s 535us/step - loss: 0.1483 - acc: 0.9454 - val_loss: 0.1968 - val_acc: 0.9329\n",
      "Epoch 8/10\n",
      "253451/253451 [==============================] - 137s 539us/step - loss: 0.1427 - acc: 0.9473 - val_loss: 0.1986 - val_acc: 0.9329\n",
      "Epoch 9/10\n",
      "253451/253451 [==============================] - 137s 539us/step - loss: 0.1372 - acc: 0.9491 - val_loss: 0.1987 - val_acc: 0.9328\n",
      "Epoch 10/10\n",
      "253451/253451 [==============================] - 136s 538us/step - loss: 0.1328 - acc: 0.9506 - val_loss: 0.2005 - val_acc: 0.9334\n"
     ]
    }
   ],
   "source": [
    "history = model.fit(X_train, y_train, \n",
    "                    epochs=epochs, \n",
    "                    batch_size=batch_size,\n",
    "                    validation_split=0.2,\n",
    "                    callbacks=[EarlyStopping(monitor='val_loss',patience=7, min_delta=0.0001)])"
   ]
  },
  {
   "cell_type": "code",
   "execution_count": 16,
   "metadata": {
    "_cell_guid": "fa53cfb9-75f7-47ee-b53d-b7f241ee082a",
    "_uuid": "a16c336b7eae3d72c7c92cf799702eacf70677c7"
   },
   "outputs": [
    {
     "name": "stdout",
     "output_type": "stream",
     "text": [
      "105605/105605 [==============================] - 76s 718us/step\n",
      "Test set\n",
      "  Loss: 0.197\n",
      "  Accuracy: 0.934\n"
     ]
    }
   ],
   "source": [
    "accr = model.evaluate(X_test,y_test)\n",
    "print('Test set\\n  Loss: {:0.3f}\\n  Accuracy: {:0.3f}'.format(accr[0],accr[1]))"
   ]
  },
  {
   "cell_type": "code",
   "execution_count": 17,
   "metadata": {
    "_cell_guid": "1130440c-dd13-4f36-9657-01b13f322efb",
    "_uuid": "f8400fe47eebbb7e8456d6f3617c6bcd7eccecf6"
   },
   "outputs": [
    {
     "data": {
      "image/png": "[encoded data removed]",
      "text/plain": [
       "<Figure size 432x288 with 1 Axes>"
      ]
     },
     "metadata": {
      "needs_background": "light"
     },
     "output_type": "display_data"
    },
    {
     "data": {
      "image/png": "[encoded data removed]",
      "text/plain": [
       "<Figure size 432x288 with 1 Axes>"
      ]
     },
     "metadata": {
      "needs_background": "light"
     },
     "output_type": "display_data"
    }
   ],
   "source": [
    "import matplotlib.pyplot as plt\n",
    "\n",
    "acc = history.history['acc']\n",
    "val_acc = history.history['val_acc']\n",
    "loss = history.history['loss']\n",
    "val_loss = history.history['val_loss']\n",
    "\n",
    "epochs = range(1, len(acc) + 1)\n",
    "\n",
    "plt.plot(epochs, acc, 'bo', label='Training acc')\n",
    "plt.plot(epochs, val_acc, 'b', label='Validation acc')\n",
    "plt.title('Training and validation accuracy')\n",
    "plt.legend()\n",
    "\n",
    "plt.figure()\n",
    "\n",
    "plt.plot(epochs, loss, 'bo', label='Training loss')\n",
    "plt.plot(epochs, val_loss, 'b', label='Validation loss')\n",
    "plt.title('Training and validation loss')\n",
    "plt.legend()\n",
    "\n",
    "plt.show()"
   ]
  },
  {
   "cell_type": "code",
   "execution_count": 18,
   "metadata": {
    "_cell_guid": "9af38e60-0811-485d-8da3-32a744b53365",
    "_uuid": "25ba8e0b354451cc482a93324e42781fde6d0826"
   },
   "outputs": [],
   "source": [
    "def detect_class(texts):\n",
    "    labels = ['entertainment', 'bussiness', 'science/tech', 'health']\n",
    "    for txt in texts:\n",
    "        seq = tokenizer.texts_to_sequences([txt])\n",
    "        padded = pad_sequences(seq, maxlen=max_len)\n",
    "        pred = model.predict(padded)\n",
    "        print(labels[np.argmax(pred)])"
   ]
  },
  {
   "cell_type": "code",
   "execution_count": 19,
   "metadata": {},
   "outputs": [
    {
     "name": "stdout",
     "output_type": "stream",
     "text": [
      "bussiness\n",
      "bussiness\n",
      "science/tech\n",
      "bussiness\n",
      "bussiness\n",
      "bussiness\n",
      "bussiness\n",
      "bussiness\n",
      "bussiness\n",
      "science/tech\n",
      "science/tech\n",
      "science/tech\n",
      "bussiness\n",
      "health\n"
     ]
    }
   ],
   "source": [
    "# Business\n",
    "texts = \\\n",
    "['The Fed chair wants US lawmakers to approve even more stimulus spending. Will anyone listen?',\n",
    "'For the second straight year, America is trailing other countries in the clean energy race',\n",
    "'Energy drink? A UK startup is turning coffee into fuel',\n",
    "'After years without turning a profit, Tesla is now poised to be a powerhouse',\n",
    "'UK economy shrank by a record 5.8% in March. Much more pain is to come',\n",
    "'This is the most expensive time to buy US stocks in 20 years',\n",
    "'Virgin Australia still needs a buyer. Queensland state is making a bid',\n",
    "'JCPenney execs get bonuses before deadline for possible bankruptcy filing',\n",
    "'US grocery prices soar as almost everything else gets cheaper',\n",
    "'Cloud ETFs are all the rage as more people work from home',\n",
    "'Google Chrome will soon allow users to group their tabs together',\n",
    "'French law requires social media to delete some content within an hour',\n",
    "'Condé Nast lays off 100 staff, BuzzFeed cuts back in UK and Australia',\n",
    "'Fox News dumps coronavirus coverage for anti-Obama conspiracy theory']\n",
    "\n",
    "detect_class(texts)\n"
   ]
  },
  {
   "cell_type": "code",
   "execution_count": 20,
   "metadata": {},
   "outputs": [
    {
     "name": "stdout",
     "output_type": "stream",
     "text": [
      "health\n",
      "health\n",
      "health\n",
      "health\n",
      "health\n",
      "health\n",
      "health\n",
      "health\n",
      "health\n",
      "health\n",
      "bussiness\n",
      "health\n"
     ]
    }
   ],
   "source": [
    "# Health\n",
    "texts = \\\n",
    "[\"Yet another study shows hydroxychloroquine doesn't work against Covid-19\",\n",
    "\"Doctors face 'nearly an impossible situation' as they ration remdesivir\",\n",
    "\"It can still be hard to get a coronavirus test -- and that's not the only problem\",\n",
    "\"Organ transplantations dropped sharply during coronavirus pandemic, study finds\",\n",
    "\"Black light experiment shows how quickly a virus like Covid-19 can spread at a restaurant\",\n",
    "\"Coronavirus may 'never go away,' says WHO official\",\n",
    "\"DO NOT USE/Coronavirus safety measures create challenges for hard-of-hearing.\",\n",
    "\"Pandemic safety measures can be difficult for hard-of-hearing. Here's how to help\",\n",
    "\"Education leaders ask what's next as nearly all states ease coronavirus restrictions\",\n",
    "\"Expect more cases of strange coronavirus syndrome in kids, doctors warn\",\n",
    "\"How much water do we really need to drink?\",\n",
    "\"From migraines to asthma to shingles: The physical toll coronavirus-related stress takes on your body and how to combat it\"]\n",
    "\n",
    "detect_class(texts)"
   ]
  },
  {
   "cell_type": "code",
   "execution_count": 21,
   "metadata": {},
   "outputs": [
    {
     "name": "stdout",
     "output_type": "stream",
     "text": [
      "health\n",
      "entertainment\n",
      "entertainment\n",
      "entertainment\n",
      "health\n",
      "entertainment\n",
      "entertainment\n",
      "entertainment\n",
      "science/tech\n",
      "entertainment\n",
      "entertainment\n",
      "entertainment\n",
      "entertainment\n",
      "entertainment\n"
     ]
    }
   ],
   "source": [
    "# Entertainment\n",
    "texts = \\\n",
    "[\"Tony Shalhoub reveals that he and his wife have recovered from coronavirus\",\n",
    "\"Network TV announces fall schedules, but with as many questions as answers\",\n",
    "\"'Unbreakable Kimmy Schmidt' breaks in interactive comedy\",\n",
    "\"Livestreams to watch from the couch this week\",\n",
    "\"Bryan Adams apologizes for social media post blaming 'bat eating' people for coronavirus\",\n",
    "\"Alison Roman pens apology to Chrissy Teigen and Marie Kondo\",\n",
    "\"John Krasinski and 'The Office' costars recreated that wedding dance for a virtual ceremony\",\n",
    "\"Tallulah Willis didn't speak to mom Demi Moore for three years\",\n",
    "\"Nelly and Ludacris to headline the next Verzuz battle on Instagram Live\",\n",
    "\"Jerry Stiller made us love him by screaming at us\",\n",
    "\"'13 Reasons Why' cast does emotional table read for series finale\",\n",
    "\"Kevin Hart and wife Eniko share gender reveal for baby No. 2\",\n",
    "\"R&B lost three legends this weekend in Little Richard, Andre Harrell and Betty Wright\",\n",
    "\"'I Know This Much is True' casts Mark Ruffalo as troubled twins with a dark family history\"]\n",
    "\n",
    "detect_class(texts)"
   ]
  },
  {
   "cell_type": "code",
   "execution_count": 22,
   "metadata": {},
   "outputs": [
    {
     "name": "stdout",
     "output_type": "stream",
     "text": [
      "bussiness\n",
      "science/tech\n",
      "bussiness\n",
      "science/tech\n",
      "science/tech\n",
      "science/tech\n",
      "entertainment\n",
      "entertainment\n",
      "science/tech\n",
      "science/tech\n",
      "science/tech\n",
      "science/tech\n",
      "bussiness\n",
      "science/tech\n",
      "science/tech\n",
      "science/tech\n",
      "entertainment\n"
     ]
    }
   ],
   "source": [
    "# Tech\n",
    "\n",
    "texts = \\\n",
    "[\"Elon Musk’s Boring Company finishes digging Las Vegas tunnels\",\n",
    "\"Zipcar will now let you access a car within minutes of signing up for the service\",\n",
    "\"Razer will use face mask vending machines to distribute millions of face masks in Singapore\",\n",
    "\"Amazon asks Congress to make an anti-price gouging law\",\n",
    "\"Moxie is a $1,500 robot for kids\",\n",
    "\"How to buy a Nintendo Switch\",\n",
    "\"Amazon adds a new ‘free’ section to Fire TV main menu\",\n",
    "\"Samsung’s Galaxy A51 has two good things going for it: the screen and the price\",\n",
    "\"Apple’s new MacBook Pro 13-inch has the keyboard we’ve been waiting for\",\n",
    "\"Microsoft’s new Surface Go 2 has a bigger display and better Intel processor\",\n",
    "\"Donald Trump extends Huawei ban through May 2021\",\n",
    "\"Kickstarter loses nearly 40 percent of its workforce after layoffs and buyouts\",\n",
    "\"Uber’s response to COVID-19: face masks, selfies, and fewer people in the car\",\n",
    "\"Google is adding a tab grouping feature to Chrome for browser hoarders\",\n",
    "\"Former astronaut and SpaceX consultant on creating a new crewed spacecraft: ‘We were really the underdogs’\",\n",
    "\"Temperatures Soar To Highest Of The Year, it’s already getting too hot and humid in some places for humans to survive\",\n",
    "\"Record-breaking astronaut Christina Koch on making space history and surviving lengthy isolation\"]\n",
    "\n",
    "detect_class(texts)"
   ]
  },
  {
   "cell_type": "markdown",
   "metadata": {},
   "source": [
    "### Bidirectional LSTM"
   ]
  },
  {
   "cell_type": "code",
   "execution_count": 23,
   "metadata": {},
   "outputs": [
    {
     "name": "stdout",
     "output_type": "stream",
     "text": [
      "Model: \"sequential_2\"\n",
      "_________________________________________________________________\n",
      "Layer (type)                 Output Shape              Param #   \n",
      "=================================================================\n",
      "embedding_2 (Embedding)      (None, 130, 128)          1024000   \n",
      "_________________________________________________________________\n",
      "bidirectional_1 (Bidirection (None, 128)               98816     \n",
      "_________________________________________________________________\n",
      "dense_2 (Dense)              (None, 4)                 516       \n",
      "=================================================================\n",
      "Total params: 1,123,332\n",
      "Trainable params: 1,123,332\n",
      "Non-trainable params: 0\n",
      "_________________________________________________________________\n"
     ]
    }
   ],
   "source": [
    "from keras.layers import Bidirectional\n",
    "model = Sequential()\n",
    "model.add(Embedding(n_most_common_words, emb_dim, input_length=X.shape[1]))\n",
    "model.add(Bidirectional(LSTM(64, dropout=0.5, recurrent_dropout=0.5)))\n",
    "model.add(Dense(4, activation='softmax'))\n",
    "model.compile(optimizer='adam', loss='categorical_crossentropy', metrics=['acc'])\n",
    "model.summary()"
   ]
  },
  {
   "cell_type": "code",
   "execution_count": 24,
   "metadata": {},
   "outputs": [
    {
     "name": "stderr",
     "output_type": "stream",
     "text": [
      "C:\\Users\\Admin\\.conda\\envs\\tensorflow-37\\lib\\site-packages\\tensorflow_core\\python\\framework\\indexed_slices.py:433: UserWarning: Converting sparse IndexedSlices to a dense Tensor of unknown shape. This may consume a large amount of memory.\n",
      "  \"Converting sparse IndexedSlices to a dense Tensor of unknown shape. \"\n"
     ]
    },
    {
     "name": "stdout",
     "output_type": "stream",
     "text": [
      "Train on 253451 samples, validate on 63363 samples\n",
      "Epoch 1/6\n",
      "253451/253451 [==============================] - 274s 1ms/step - loss: 0.3558 - acc: 0.8696 - val_loss: 0.2087 - val_acc: 0.9277\n",
      "Epoch 2/6\n",
      "253451/253451 [==============================] - 282s 1ms/step - loss: 0.1992 - acc: 0.9305 - val_loss: 0.1991 - val_acc: 0.9298\n",
      "Epoch 3/6\n",
      "253451/253451 [==============================] - 282s 1ms/step - loss: 0.1816 - acc: 0.9351 - val_loss: 0.1967 - val_acc: 0.9319\n",
      "Epoch 4/6\n",
      "253451/253451 [==============================] - 282s 1ms/step - loss: 0.1697 - acc: 0.9389 - val_loss: 0.1958 - val_acc: 0.9314\n",
      "Epoch 5/6\n",
      "253451/253451 [==============================] - 283s 1ms/step - loss: 0.1620 - acc: 0.9414 - val_loss: 0.1949 - val_acc: 0.9322\n",
      "Epoch 6/6\n",
      "253451/253451 [==============================] - 282s 1ms/step - loss: 0.1553 - acc: 0.9432 - val_loss: 0.1951 - val_acc: 0.9323\n"
     ]
    }
   ],
   "source": [
    "history = model.fit(X_train, y_train, \n",
    "                    epochs=6, \n",
    "                    batch_size=batch_size,\n",
    "                    validation_split=0.2,\n",
    "                    callbacks=[EarlyStopping(monitor='val_loss',patience=7, min_delta=0.0001)])"
   ]
  },
  {
   "cell_type": "code",
   "execution_count": 26,
   "metadata": {},
   "outputs": [
    {
     "name": "stdout",
     "output_type": "stream",
     "text": [
      "105605/105605 [==============================] - 125s 1ms/step\n",
      "Test set\n",
      "  Loss: 0.193\n",
      "  Accuracy: 0.933\n"
     ]
    }
   ],
   "source": [
    "accuracy = model.evaluate(X_test,y_test)\n",
    "print('Test set\\n  Loss: {:0.3f}\\n  Accuracy: {:0.3f}'.format(accuracy[0],accuracy[1]))"
   ]
  },
  {
   "cell_type": "code",
   "execution_count": 25,
   "metadata": {},
   "outputs": [
    {
     "data": {
      "image/png": "[encoded data removed]",
      "text/plain": [
       "<Figure size 960x400 with 2 Axes>"
      ]
     },
     "metadata": {
      "needs_background": "light"
     },
     "output_type": "display_data"
    }
   ],
   "source": [
    "plt.figure(figsize=(12, 5), dpi=80)\n",
    "\n",
    "plt.subplot(1,2,1)\n",
    "acc = history.history['acc']\n",
    "val_acc = history.history['val_acc']\n",
    "loss = history.history['loss']\n",
    "val_loss = history.history['val_loss']\n",
    "epochs = range(1, len(acc) + 1)\n",
    "plt.plot(epochs, acc, 'bo', label='Training acc')\n",
    "plt.plot(epochs, val_acc, 'b', label='Validation acc')\n",
    "plt.title('Training and validation accuracy')\n",
    "plt.legend()\n",
    "\n",
    "plt.subplot(1,2,2)\n",
    "plt.plot(epochs, loss, 'bo', label='Training loss')\n",
    "plt.plot(epochs, val_loss, 'b', label='Validation loss')\n",
    "plt.title('Training and validation loss')\n",
    "plt.legend()\n",
    "\n",
    "plt.show()"
   ]
  },
  {
   "cell_type": "markdown",
   "metadata": {},
   "source": [
    "### Одномерная сверточная сеть"
   ]
  },
  {
   "cell_type": "code",
   "execution_count": 31,
   "metadata": {},
   "outputs": [
    {
     "name": "stdout",
     "output_type": "stream",
     "text": [
      "Model: \"sequential_4\"\n",
      "_________________________________________________________________\n",
      "Layer (type)                 Output Shape              Param #   \n",
      "=================================================================\n",
      "embedding_4 (Embedding)      (None, 130, 128)          1024000   \n",
      "_________________________________________________________________\n",
      "conv1d_3 (Conv1D)            (None, 128, 32)           12320     \n",
      "_________________________________________________________________\n",
      "max_pooling1d_2 (MaxPooling1 (None, 64, 32)            0         \n",
      "_________________________________________________________________\n",
      "conv1d_4 (Conv1D)            (None, 60, 64)            10304     \n",
      "_________________________________________________________________\n",
      "flatten_2 (Flatten)          (None, 3840)              0         \n",
      "_________________________________________________________________\n",
      "dense_4 (Dense)              (None, 4)                 15364     \n",
      "=================================================================\n",
      "Total params: 1,061,988\n",
      "Trainable params: 1,061,988\n",
      "Non-trainable params: 0\n",
      "_________________________________________________________________\n"
     ]
    }
   ],
   "source": [
    "from keras.layers import Conv1D, MaxPooling1D, Flatten\n",
    "model = Sequential()\n",
    "model.add(Embedding(n_most_common_words, emb_dim, input_length=X.shape[1]))\n",
    "model.add(Conv1D(32, 3, activation='relu', input_shape=(None, emb_dim)))\n",
    "model.add(MaxPooling1D(2))\n",
    "model.add(Conv1D(64, 5, activation='relu'))\n",
    "model.add(Flatten())\n",
    "model.add(Dense(4, activation='softmax'))\n",
    "model.compile(optimizer='adam', loss='categorical_crossentropy', metrics=['acc'])\n",
    "model.summary()"
   ]
  },
  {
   "cell_type": "code",
   "execution_count": 32,
   "metadata": {},
   "outputs": [
    {
     "name": "stderr",
     "output_type": "stream",
     "text": [
      "C:\\Users\\Admin\\.conda\\envs\\tensorflow-37\\lib\\site-packages\\tensorflow_core\\python\\framework\\indexed_slices.py:433: UserWarning: Converting sparse IndexedSlices to a dense Tensor of unknown shape. This may consume a large amount of memory.\n",
      "  \"Converting sparse IndexedSlices to a dense Tensor of unknown shape. \"\n"
     ]
    },
    {
     "name": "stdout",
     "output_type": "stream",
     "text": [
      "Train on 253451 samples, validate on 63363 samples\n",
      "Epoch 1/6\n",
      "253451/253451 [==============================] - 15s 60us/step - loss: 0.3471 - acc: 0.8667 - val_loss: 0.2087 - val_acc: 0.9281\n",
      "Epoch 2/6\n",
      "253451/253451 [==============================] - 15s 60us/step - loss: 0.1747 - acc: 0.9386 - val_loss: 0.1990 - val_acc: 0.9296\n",
      "Epoch 3/6\n",
      "253451/253451 [==============================] - 16s 63us/step - loss: 0.1376 - acc: 0.9507 - val_loss: 0.2039 - val_acc: 0.9304\n",
      "Epoch 4/6\n",
      "253451/253451 [==============================] - 16s 63us/step - loss: 0.1022 - acc: 0.9634 - val_loss: 0.2205 - val_acc: 0.9299\n",
      "Epoch 5/6\n",
      "253451/253451 [==============================] - 16s 62us/step - loss: 0.0719 - acc: 0.9744 - val_loss: 0.2635 - val_acc: 0.9270\n",
      "Epoch 6/6\n",
      "253451/253451 [==============================] - 16s 63us/step - loss: 0.0520 - acc: 0.9820 - val_loss: 0.3152 - val_acc: 0.9253\n"
     ]
    }
   ],
   "source": [
    "history = model.fit(X_train, y_train, \n",
    "                    epochs=6, \n",
    "                    batch_size=batch_size,\n",
    "                    validation_split=0.2)"
   ]
  },
  {
   "cell_type": "code",
   "execution_count": 33,
   "metadata": {},
   "outputs": [
    {
     "name": "stdout",
     "output_type": "stream",
     "text": [
      "105605/105605 [==============================] - 10s 97us/step\n",
      "Test set\n",
      "  Loss: 0.310\n",
      "  Accuracy: 0.925\n"
     ]
    }
   ],
   "source": [
    "accuracy = model.evaluate(X_test,y_test)\n",
    "print('Test set\\n  Loss: {:0.3f}\\n  Accuracy: {:0.3f}'.format(accuracy[0],accuracy[1]))"
   ]
  },
  {
   "cell_type": "code",
   "execution_count": 34,
   "metadata": {},
   "outputs": [
    {
     "data": {
      "image/png": "[encoded data removed]",
      "text/plain": [
       "<Figure size 960x400 with 2 Axes>"
      ]
     },
     "metadata": {
      "needs_background": "light"
     },
     "output_type": "display_data"
    }
   ],
   "source": [
    "plt.figure(figsize=(12, 5), dpi=80)\n",
    "\n",
    "plt.subplot(1,2,1)\n",
    "acc = history.history['acc']\n",
    "val_acc = history.history['val_acc']\n",
    "loss = history.history['loss']\n",
    "val_loss = history.history['val_loss']\n",
    "epochs = range(1, len(acc) + 1)\n",
    "plt.plot(epochs, acc, 'bo', label='Training acc')\n",
    "plt.plot(epochs, val_acc, 'b', label='Validation acc')\n",
    "plt.title('Training and validation accuracy')\n",
    "plt.legend()\n",
    "\n",
    "plt.subplot(1,2,2)\n",
    "plt.plot(epochs, loss, 'bo', label='Training loss')\n",
    "plt.plot(epochs, val_loss, 'b', label='Validation loss')\n",
    "plt.title('Training and validation loss')\n",
    "plt.legend()\n",
    "\n",
    "plt.show()"
   ]
  },
  {
   "cell_type": "code",
   "execution_count": null,
   "metadata": {},
   "outputs": [],
   "source": []
  }
 ],
 "metadata": {
  "kernelspec": {
   "display_name": "Python 3",
   "language": "python",
   "name": "python3"
  },
  "language_info": {
   "codemirror_mode": {
    "name": "ipython",
    "version": 3
   },
   "file_extension": ".py",
   "mimetype": "text/x-python",
   "name": "python",
   "nbconvert_exporter": "python",
   "pygments_lexer": "ipython3",
   "version": "3.8.3"
  }
 },
 "nbformat": 4,
 "nbformat_minor": 1
}
