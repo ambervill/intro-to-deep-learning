{
 "cells": [
  {
   "cell_type": "markdown",
   "metadata": {},
   "source": [
    "## Генерация изображений двух цифр при помощи сверточных генеративно-состязательных сетей"
   ]
  },
  {
   "cell_type": "code",
   "execution_count": 2,
   "metadata": {},
   "outputs": [],
   "source": [
    "import os\n",
    "os.environ['TF_CPP_MIN_LOG_LEVEL'] = '2'\n",
    "\n",
    "import numpy as np\n",
    "import matplotlib.pyplot as plt\n",
    "import time\n",
    "\n",
    "from tensorflow.keras.datasets import mnist\n",
    "import tensorflow.keras.backend as K\n",
    "import tensorflow as tf\n",
    "from tensorflow.keras.layers import Dense, Flatten, Reshape, Input, BatchNormalization, Dropout\n",
    "from tensorflow.keras.layers import Conv2D, Conv2DTranspose, LeakyReLU"
   ]
  },
  {
   "cell_type": "code",
   "execution_count": 3,
   "metadata": {},
   "outputs": [],
   "source": [
    "# Сузим множество изображений до 7 и 8\n",
    "(x_train, y_train), (x_test, y_test) = mnist.load_data()\n",
    "\n",
    "x_train = x_train[(y_train == 7) | (y_train == 8)]\n",
    "y_train = y_train[(y_train == 7) | (y_train == 8)]"
   ]
  },
  {
   "cell_type": "code",
   "execution_count": 4,
   "metadata": {},
   "outputs": [
    {
     "name": "stdout",
     "output_type": "stream",
     "text": [
      "(12100, 28, 28) (12100,)\n"
     ]
    }
   ],
   "source": [
    "# Сделаем величину выборки кратной батчу\n",
    "BUFFER_SIZE = x_train.shape[0]\n",
    "BATCH_SIZE = 100\n",
    "\n",
    "BUFFER_SIZE = BUFFER_SIZE // BATCH_SIZE * BATCH_SIZE\n",
    "x_train = x_train[:BUFFER_SIZE]\n",
    "y_train = y_train[:BUFFER_SIZE]\n",
    "print(x_train.shape, y_train.shape)"
   ]
  },
  {
   "cell_type": "code",
   "execution_count": 5,
   "metadata": {},
   "outputs": [],
   "source": [
    "# Предобработка, перемешивание входных данных, формирование батчей\n",
    "x_train = x_train / 255\n",
    "x_test = x_test / 255\n",
    "\n",
    "x_train = np.reshape(x_train, (len(x_train), 28, 28, 1))\n",
    "x_test = np.reshape(x_test, (len(x_test), 28, 28, 1))\n",
    "\n",
    "train_dataset = tf.data.Dataset.from_tensor_slices(x_train).shuffle(BUFFER_SIZE).batch(BATCH_SIZE)"
   ]
  },
  {
   "cell_type": "code",
   "execution_count": 6,
   "metadata": {},
   "outputs": [],
   "source": [
    "# Задаем размерность латентного пространства\n",
    "# Двумерного пространства недостаточно - будет mode collapse. Используем 4\n",
    "hidden_dim = 4\n",
    "\n",
    "\n",
    "def dropout_and_batch():\n",
    "    return Dropout(0.3)(BatchNormalization())"
   ]
  },
  {
   "cell_type": "markdown",
   "metadata": {},
   "source": [
    "#### Модель генератора\n",
    "\n",
    "`Conv2DTranspose` - сверточный слой, у которого входные карты признаков разреживаются, т.е. разделяются нулями. \n",
    "\n",
    "Интервал разреживания задается параметром `strides`.\n",
    "\n",
    "Это позволяет увеличивать размерность выхода сверточного слоя без использования `UpSampling2D`.\n",
    "\n",
    "Подробно: https://towardsdatascience.com/types-of-convolutions-in-deep-learning-717013397f4d"
   ]
  },
  {
   "cell_type": "code",
   "execution_count": 7,
   "metadata": {},
   "outputs": [],
   "source": [
    "generator = tf.keras.Sequential([\n",
    "  Dense(7 * 7 * 256, activation='relu', input_shape=(hidden_dim,)),\n",
    "  BatchNormalization(),\n",
    "  Reshape((7, 7, 256)),\n",
    "  Conv2DTranspose(128, (5, 5), strides=(1, 1), padding='same', activation='relu'),\n",
    "  BatchNormalization(),\n",
    "  Conv2DTranspose(64, (5, 5), strides=(2, 2), padding='same', activation='relu'),\n",
    "  BatchNormalization(),\n",
    "  Conv2DTranspose(1, (5, 5), strides=(2, 2), padding='same', activation='sigmoid'),\n",
    "])"
   ]
  },
  {
   "cell_type": "markdown",
   "metadata": {},
   "source": [
    "#### Модель дискриминатора"
   ]
  },
  {
   "cell_type": "code",
   "execution_count": 8,
   "metadata": {},
   "outputs": [],
   "source": [
    "# Модель дискриминатора\n",
    "discriminator = tf.keras.Sequential()\n",
    "discriminator.add(Conv2D(64, (5, 5), strides=(2, 2), padding='same', input_shape=[28, 28, 1]))\n",
    "discriminator.add(LeakyReLU())\n",
    "discriminator.add(Dropout(0.3))\n",
    "\n",
    "discriminator.add(Conv2D(128, (5, 5), strides=(2, 2), padding='same'))\n",
    "discriminator.add(LeakyReLU())\n",
    "discriminator.add(Dropout(0.3))\n",
    "\n",
    "discriminator.add(Flatten())\n",
    "discriminator.add(Dense(1))"
   ]
  },
  {
   "cell_type": "code",
   "execution_count": 9,
   "metadata": {},
   "outputs": [],
   "source": [
    "# Составляем функции потерь\n",
    "cross_entropy = tf.keras.losses.BinaryCrossentropy(from_logits=True)\n",
    "\n",
    "\n",
    "def generator_loss(fake_output):\n",
    "#     Для генератора желаемый выход - 1 (обмануть дискриминатор)\n",
    "    loss = cross_entropy(tf.ones_like(fake_output), fake_output)\n",
    "    return loss\n",
    "\n",
    "\n",
    "def discriminator_loss(real_output, fake_output):\n",
    "#     Для дискриминатора желаемый выход - 0 для фейков, 1 для оригиналов\n",
    "    real_loss = cross_entropy(tf.ones_like(real_output), real_output)\n",
    "    fake_loss = cross_entropy(tf.zeros_like(fake_output), fake_output)\n",
    "    total_loss = real_loss + fake_loss\n",
    "    return total_loss"
   ]
  },
  {
   "cell_type": "code",
   "execution_count": 10,
   "metadata": {},
   "outputs": [],
   "source": [
    "generator_optimizer = tf.keras.optimizers.Adam(1e-4)\n",
    "discriminator_optimizer = tf.keras.optimizers.Adam(1e-4)"
   ]
  },
  {
   "cell_type": "code",
   "execution_count": 11,
   "metadata": {},
   "outputs": [],
   "source": [
    "# Один шаг обучения\n",
    "@tf.function\n",
    "def train_step(images):\n",
    "    noise = tf.random.normal([BATCH_SIZE, hidden_dim])\n",
    "    # GradientTape следит за изменениями обучаемых параметров и сохраняет метод вычисления их градиентов\n",
    "    with tf.GradientTape() as gen_tape, tf.GradientTape() as disc_tape:\n",
    "        generated_images = generator(noise, training=True)\n",
    "\n",
    "        real_output = discriminator(images, training=True)\n",
    "        fake_output = discriminator(generated_images, training=True)\n",
    "\n",
    "        gen_loss = generator_loss(fake_output)\n",
    "        disc_loss = discriminator_loss(real_output, fake_output)\n",
    "        \n",
    "    # Вычисляем градиенты и поочередно применяем шаг оптимизации для генератора и дискриминатора\n",
    "    gradients_of_generator = gen_tape.gradient(gen_loss, generator.trainable_variables)\n",
    "    gradients_of_discriminator = disc_tape.gradient(disc_loss, discriminator.trainable_variables)\n",
    "\n",
    "    generator_optimizer.apply_gradients(zip(gradients_of_generator, generator.trainable_variables))\n",
    "    discriminator_optimizer.apply_gradients(zip(gradients_of_discriminator, discriminator.trainable_variables))\n",
    "\n",
    "    return gen_loss, disc_loss"
   ]
  },
  {
   "cell_type": "code",
   "execution_count": 12,
   "metadata": {},
   "outputs": [],
   "source": [
    "# Главный цикл обучения\n",
    "def train(dataset, epochs):\n",
    "    history = []\n",
    "    MAX_PRINT_LABEL = 10\n",
    "    th = BUFFER_SIZE // (BATCH_SIZE * MAX_PRINT_LABEL)\n",
    "\n",
    "    for epoch in range(1, epochs + 1):\n",
    "        print(f'{epoch}/{EPOCHS}: ', end='')\n",
    "\n",
    "        start = time.time()\n",
    "        n = 0\n",
    "\n",
    "        gen_loss_epoch = 0\n",
    "        for image_batch in dataset:\n",
    "            gen_loss, disc_loss = train_step(image_batch)\n",
    "            gen_loss_epoch += K.mean(gen_loss)\n",
    "            if (n % th == 0): print('=', end='')\n",
    "            n += 1\n",
    "\n",
    "        history += [gen_loss_epoch / n]\n",
    "        print(': ' + str(history[-1]))\n",
    "        print('Время эпохи {} составляет {} секунд'.format(epoch, time.time() - start))\n",
    "\n",
    "    return history"
   ]
  },
  {
   "cell_type": "code",
   "execution_count": 13,
   "metadata": {},
   "outputs": [
    {
     "name": "stdout",
     "output_type": "stream",
     "text": [
      "1/20: ===========: tf.Tensor(1.8997375, shape=(), dtype=float32)\n",
      "Время эпохи 1 составляет 22.676090955734253 секунд\n",
      "2/20: ===========: tf.Tensor(3.1229966, shape=(), dtype=float32)\n",
      "Время эпохи 2 составляет 22.40745782852173 секунд\n",
      "3/20: ===========: tf.Tensor(3.3006313, shape=(), dtype=float32)\n",
      "Время эпохи 3 составляет 22.68437647819519 секунд\n",
      "4/20: ===========: tf.Tensor(1.694659, shape=(), dtype=float32)\n",
      "Время эпохи 4 составляет 22.708844423294067 секунд\n",
      "5/20: ===========: tf.Tensor(1.5379447, shape=(), dtype=float32)\n",
      "Время эпохи 5 составляет 22.880080461502075 секунд\n",
      "6/20: ===========: tf.Tensor(1.499803, shape=(), dtype=float32)\n",
      "Время эпохи 6 составляет 22.895118474960327 секунд\n",
      "7/20: ===========: tf.Tensor(1.3105962, shape=(), dtype=float32)\n",
      "Время эпохи 7 составляет 22.98198127746582 секунд\n",
      "8/20: ===========: tf.Tensor(1.2796513, shape=(), dtype=float32)\n",
      "Время эпохи 8 составляет 23.050753355026245 секунд\n",
      "9/20: ===========: tf.Tensor(1.1129545, shape=(), dtype=float32)\n",
      "Время эпохи 9 составляет 23.27704405784607 секунд\n",
      "10/20: ===========: tf.Tensor(1.0518141, shape=(), dtype=float32)\n",
      "Время эпохи 10 составляет 23.536684274673462 секунд\n",
      "11/20: ===========: tf.Tensor(1.0348653, shape=(), dtype=float32)\n",
      "Время эпохи 11 составляет 23.540071964263916 секунд\n",
      "12/20: ===========: tf.Tensor(0.91468436, shape=(), dtype=float32)\n",
      "Время эпохи 12 составляет 23.735336303710938 секунд\n",
      "13/20: ===========: tf.Tensor(0.93383163, shape=(), dtype=float32)\n",
      "Время эпохи 13 составляет 23.56759285926819 секунд\n",
      "14/20: ===========: tf.Tensor(1.0682714, shape=(), dtype=float32)\n",
      "Время эпохи 14 составляет 23.593924283981323 секунд\n",
      "15/20: ===========: tf.Tensor(0.93589634, shape=(), dtype=float32)\n",
      "Время эпохи 15 составляет 23.604483127593994 секунд\n",
      "16/20: ===========: tf.Tensor(0.94964767, shape=(), dtype=float32)\n",
      "Время эпохи 16 составляет 23.60136365890503 секунд\n",
      "17/20: ===========: tf.Tensor(0.9485315, shape=(), dtype=float32)\n",
      "Время эпохи 17 составляет 23.646387577056885 секунд\n",
      "18/20: ===========: tf.Tensor(0.90469694, shape=(), dtype=float32)\n",
      "Время эпохи 18 составляет 23.619679927825928 секунд\n",
      "19/20: ===========: tf.Tensor(0.9091562, shape=(), dtype=float32)\n",
      "Время эпохи 19 составляет 23.615201950073242 секунд\n",
      "20/20: ===========: tf.Tensor(0.7887578, shape=(), dtype=float32)\n",
      "Время эпохи 20 составляет 23.631665468215942 секунд\n"
     ]
    }
   ],
   "source": [
    "# запуск процесса обучения\n",
    "EPOCHS = 20\n",
    "history = train(train_dataset, EPOCHS)"
   ]
  },
  {
   "cell_type": "markdown",
   "metadata": {},
   "source": [
    "Построим график усредненных потерь генератора по каждой эпохе. Видно типичное для GAN поведение функции потерь: сначала большие всплески, затем стабилизация."
   ]
  },
  {
   "cell_type": "code",
   "execution_count": 14,
   "metadata": {},
   "outputs": [
    {
     "data": {
      "image/png": "[encoded data removed]",
      "text/plain": [
       "<Figure size 432x288 with 1 Axes>"
      ]
     },
     "metadata": {
      "needs_background": "light"
     },
     "output_type": "display_data"
    }
   ],
   "source": [
    "plt.plot(history)\n",
    "plt.grid(True)\n",
    "plt.show()"
   ]
  },
  {
   "cell_type": "code",
   "execution_count": 15,
   "metadata": {},
   "outputs": [
    {
     "data": {
      "image/png": "[encoded data removed]",
      "text/plain": [
       "<Figure size 432x288 with 1 Axes>"
      ]
     },
     "metadata": {
      "needs_background": "light"
     },
     "output_type": "display_data"
    }
   ],
   "source": [
    "plt.plot(history)\n",
    "plt.grid(True)\n",
    "plt.show()"
   ]
  },
  {
   "cell_type": "code",
   "execution_count": 17,
   "metadata": {},
   "outputs": [
    {
     "data": {
      "image/png": "[encoded data removed]",
      "text/plain": [
       "<Figure size 360x360 with 25 Axes>"
      ]
     },
     "metadata": {
      "needs_background": "light"
     },
     "output_type": "display_data"
    }
   ],
   "source": [
    "# Выведем несколько результатов генерации\n",
    "n = 2\n",
    "total = 2 * n + 1\n",
    "\n",
    "plt.figure(figsize=(total, total))\n",
    "\n",
    "num = 1\n",
    "for i in range(-n, n + 1):\n",
    "  for j in range(-n, n + 1):\n",
    "    ax = plt.subplot(total, total, num)\n",
    "    num += 1\n",
    "    # Можно делать срезы по любым 2 размерностям\n",
    "    img = generator.predict(np.expand_dims([0.5 * i / n, 0.5 * j / n, 0.3, -0.5], axis=0))\n",
    "    # Можно проиллюстрировать выход за пределы параметризации латентного пространства\n",
    "    #img = generator.predict(np.expand_dims([0.5 * i / n, 0.5 * j / n, 20, -10], axis=0))\n",
    "    plt.imshow(img[0, :, :, 0], cmap='gray')\n",
    "    ax.get_xaxis().set_visible(False)\n",
    "    ax.get_yaxis().set_visible(False)\n",
    "\n",
    "plt.show()"
   ]
  },
  {
   "cell_type": "markdown",
   "metadata": {},
   "source": [
    "https://github.com/selfedu-rus/neural-network/blob/master/lesson%2032.%20GAN.py"
   ]
  },
  {
   "cell_type": "code",
   "execution_count": null,
   "metadata": {},
   "outputs": [],
   "source": []
  }
 ],
 "metadata": {
  "kernelspec": {
   "display_name": "Python 3",
   "language": "python",
   "name": "python3"
  },
  "language_info": {
   "codemirror_mode": {
    "name": "ipython",
    "version": 3
   },
   "file_extension": ".py",
   "mimetype": "text/x-python",
   "name": "python",
   "nbconvert_exporter": "python",
   "pygments_lexer": "ipython3",
   "version": "3.7.3"
  }
 },
 "nbformat": 4,
 "nbformat_minor": 2
}
