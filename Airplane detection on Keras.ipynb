{
 "cells": [
  {
   "cell_type": "code",
   "execution_count": 2,
   "metadata": {},
   "outputs": [],
   "source": [
    "import glob\n",
    "import numpy as np\n",
    "import os\n",
    "import os.path as path\n",
    "import imageio\n",
    "from scipy import misc\n",
    "from keras.models import Sequential, save_model\n",
    "from keras.layers import Activation, Dropout, Flatten, Dense, Conv2D, MaxPooling2D, InputLayer, Reshape\n",
    "from sklearn.metrics import accuracy_score, f1_score\n",
    "import matplotlib.pyplot as plt"
   ]
  },
  {
   "cell_type": "code",
   "execution_count": 3,
   "metadata": {},
   "outputs": [],
   "source": [
    "# IMAGE_PATH should be the path to the planesnet folder\n",
    "file_paths = glob.glob(path.join(os.getenv(\"HOME\"),'work/airplane_cnn/planesnet', '*.png'))"
   ]
  },
  {
   "cell_type": "code",
   "execution_count": 4,
   "metadata": {},
   "outputs": [],
   "source": [
    "# Load the images\n",
    "images = [imageio.imread(i_path) for i_path in file_paths]\n",
    "images = np.asarray(images)"
   ]
  },
  {
   "cell_type": "code",
   "execution_count": 5,
   "metadata": {},
   "outputs": [
    {
     "data": {
      "text/plain": [
       "(32000, 20, 20, 3)"
      ]
     },
     "execution_count": 5,
     "metadata": {},
     "output_type": "execute_result"
    }
   ],
   "source": [
    "images.shape"
   ]
  },
  {
   "cell_type": "code",
   "execution_count": 21,
   "metadata": {},
   "outputs": [
    {
     "data": {
      "image/png": "[encoded data removed]",
      "text/plain": [
       "<Figure size 432x288 with 1 Axes>"
      ]
     },
     "metadata": {
      "needs_background": "light"
     },
     "output_type": "display_data"
    }
   ],
   "source": [
    "plt.imshow(images[30402]);"
   ]
  },
  {
   "cell_type": "code",
   "execution_count": 27,
   "metadata": {},
   "outputs": [],
   "source": [
    "# Get image size\n",
    "image_size = np.asarray([images.shape[1], images.shape[2], images.shape[3]])"
   ]
  },
  {
   "cell_type": "code",
   "execution_count": 28,
   "metadata": {},
   "outputs": [
    {
     "data": {
      "text/plain": [
       "array([20, 20,  3])"
      ]
     },
     "execution_count": 28,
     "metadata": {},
     "output_type": "execute_result"
    }
   ],
   "source": [
    "image_size"
   ]
  },
  {
   "cell_type": "code",
   "execution_count": 30,
   "metadata": {},
   "outputs": [],
   "source": [
    "images = images / 255"
   ]
  },
  {
   "cell_type": "code",
   "execution_count": 32,
   "metadata": {},
   "outputs": [],
   "source": [
    "n_images = images.shape[0]\n",
    "labels = np.zeros(n_images)"
   ]
  },
  {
   "cell_type": "code",
   "execution_count": 33,
   "metadata": {},
   "outputs": [],
   "source": [
    "for i in range(n_images):\n",
    "    filename = path.basename(file_paths[i])[0]\n",
    "    labels[i] = int(filename[0])"
   ]
  },
  {
   "cell_type": "code",
   "execution_count": 35,
   "metadata": {},
   "outputs": [],
   "source": [
    "# Split into test and training sets\n",
    "TRAIN_TEST_SPLIT = 0.9"
   ]
  },
  {
   "cell_type": "code",
   "execution_count": 36,
   "metadata": {},
   "outputs": [],
   "source": [
    "# Split at the given index\n",
    "split_index = int(TRAIN_TEST_SPLIT * n_images)\n",
    "shuffled_indices = np.random.permutation(n_images)\n",
    "train_indices = shuffled_indices[0:split_index]\n",
    "test_indices = shuffled_indices[split_index:]"
   ]
  },
  {
   "cell_type": "code",
   "execution_count": 37,
   "metadata": {},
   "outputs": [],
   "source": [
    "# Split the images and the labels\n",
    "x_train = images[train_indices, :, :, :]\n",
    "y_train = labels[train_indices]\n",
    "x_test = images[test_indices, :, :, :]\n",
    "y_test = labels[test_indices]"
   ]
  },
  {
   "cell_type": "code",
   "execution_count": 22,
   "metadata": {},
   "outputs": [],
   "source": [
    "## MODEL CREATION ##\n",
    "\n",
    "N_LAYERS = 3\n",
    "\n",
    "# Define model hyperparamters\n",
    "MIN_NEURONS = 20\n",
    "MAX_NEURONS = 150\n",
    "KERNEL = (3, 3)\n",
    "\n",
    "# Determine the # of neurons in each convolutional layer\n",
    "steps = np.floor(MAX_NEURONS / (N_LAYERS + 1))\n",
    "nuerons = np.arange(MIN_NEURONS, MAX_NEURONS, steps)\n",
    "nuerons = nuerons.astype(np.int32)"
   ]
  },
  {
   "cell_type": "code",
   "execution_count": 23,
   "metadata": {},
   "outputs": [
    {
     "data": {
      "text/plain": [
       "37.0"
      ]
     },
     "execution_count": 23,
     "metadata": {},
     "output_type": "execute_result"
    }
   ],
   "source": [
    "steps"
   ]
  },
  {
   "cell_type": "code",
   "execution_count": 24,
   "metadata": {},
   "outputs": [
    {
     "data": {
      "text/plain": [
       "array([ 20,  57,  94, 131], dtype=int32)"
      ]
     },
     "execution_count": 24,
     "metadata": {},
     "output_type": "execute_result"
    }
   ],
   "source": [
    "nuerons"
   ]
  },
  {
   "cell_type": "code",
   "execution_count": 67,
   "metadata": {},
   "outputs": [],
   "source": [
    "# Define a model\n",
    "model = Sequential()\n",
    "# Add convolutional layers\n",
    "for i in range(0, N_LAYERS):\n",
    "    if i == 0:\n",
    "        shape = (image_size[0], image_size[1], image_size[2])\n",
    "        model.add(Conv2D(nuerons[i], KERNEL, input_shape=shape))\n",
    "    else:\n",
    "        model.add(Conv2D(nuerons[i], KERNEL))\n",
    "\n",
    "    model.add(Activation('relu'))"
   ]
  },
  {
   "cell_type": "code",
   "execution_count": 68,
   "metadata": {},
   "outputs": [],
   "source": [
    "# Add max pooling layer with dropout\n",
    "model.add(MaxPooling2D(pool_size=(2, 2)))\n",
    "model.add(Flatten())\n",
    "model.add(Dense(MAX_NEURONS))\n",
    "model.add(Activation('relu'))"
   ]
  },
  {
   "cell_type": "code",
   "execution_count": 69,
   "metadata": {},
   "outputs": [],
   "source": [
    "# Add output layer\n",
    "model.add(Dense(1))\n",
    "model.add(Activation('sigmoid'))"
   ]
  },
  {
   "cell_type": "code",
   "execution_count": 75,
   "metadata": {},
   "outputs": [],
   "source": [
    "# Compile the model\n",
    "model.compile(loss='binary_crossentropy',\n",
    "              optimizer='adam',\n",
    "              metrics=['accuracy'])"
   ]
  },
  {
   "cell_type": "code",
   "execution_count": 76,
   "metadata": {},
   "outputs": [
    {
     "name": "stdout",
     "output_type": "stream",
     "text": [
      "Model: \"sequential_3\"\n",
      "_________________________________________________________________\n",
      "Layer (type)                 Output Shape              Param #   \n",
      "=================================================================\n",
      "conv2d_7 (Conv2D)            (None, 18, 18, 20)        560       \n",
      "_________________________________________________________________\n",
      "activation_11 (Activation)   (None, 18, 18, 20)        0         \n",
      "_________________________________________________________________\n",
      "conv2d_8 (Conv2D)            (None, 16, 16, 57)        10317     \n",
      "_________________________________________________________________\n",
      "activation_12 (Activation)   (None, 16, 16, 57)        0         \n",
      "_________________________________________________________________\n",
      "conv2d_9 (Conv2D)            (None, 14, 14, 94)        48316     \n",
      "_________________________________________________________________\n",
      "activation_13 (Activation)   (None, 14, 14, 94)        0         \n",
      "_________________________________________________________________\n",
      "max_pooling2d_3 (MaxPooling2 (None, 7, 7, 94)          0         \n",
      "_________________________________________________________________\n",
      "flatten_3 (Flatten)          (None, 4606)              0         \n",
      "_________________________________________________________________\n",
      "dense_5 (Dense)              (None, 150)               691050    \n",
      "_________________________________________________________________\n",
      "activation_14 (Activation)   (None, 150)               0         \n",
      "_________________________________________________________________\n",
      "dense_6 (Dense)              (None, 1)                 151       \n",
      "_________________________________________________________________\n",
      "activation_15 (Activation)   (None, 1)                 0         \n",
      "=================================================================\n",
      "Total params: 750,394\n",
      "Trainable params: 750,394\n",
      "Non-trainable params: 0\n",
      "_________________________________________________________________\n"
     ]
    }
   ],
   "source": [
    "# Print a summary of the model\n",
    "model.summary()"
   ]
  },
  {
   "cell_type": "code",
   "execution_count": 88,
   "metadata": {},
   "outputs": [
    {
     "name": "stdout",
     "output_type": "stream",
     "text": [
      "Train on 28800 samples, validate on 3200 samples\n",
      "Epoch 1/9\n",
      "28800/28800 [==============================] - 59s 2ms/step - loss: 0.0610 - acc: 0.9771 - val_loss: 0.0518 - val_acc: 0.9806\n",
      "Epoch 2/9\n",
      "28800/28800 [==============================] - 59s 2ms/step - loss: 0.0613 - acc: 0.9772 - val_loss: 0.0540 - val_acc: 0.9809\n",
      "Epoch 3/9\n",
      "28800/28800 [==============================] - 59s 2ms/step - loss: 0.0582 - acc: 0.9788 - val_loss: 0.0658 - val_acc: 0.9794\n",
      "Epoch 4/9\n",
      "28800/28800 [==============================] - 59s 2ms/step - loss: 0.0503 - acc: 0.9819 - val_loss: 0.0513 - val_acc: 0.9822\n",
      "Epoch 5/9\n",
      "28800/28800 [==============================] - 59s 2ms/step - loss: 0.0376 - acc: 0.9874 - val_loss: 0.0485 - val_acc: 0.9822\n",
      "Epoch 6/9\n",
      "28800/28800 [==============================] - 59s 2ms/step - loss: 0.0402 - acc: 0.9855 - val_loss: 0.0633 - val_acc: 0.9747\n",
      "Epoch 7/9\n",
      "28800/28800 [==============================] - 59s 2ms/step - loss: 0.0391 - acc: 0.9861 - val_loss: 0.0437 - val_acc: 0.9838\n",
      "Epoch 8/9\n",
      "28800/28800 [==============================] - 59s 2ms/step - loss: 0.0275 - acc: 0.9910 - val_loss: 0.0454 - val_acc: 0.9850\n",
      "Epoch 9/9\n",
      "28800/28800 [==============================] - 59s 2ms/step - loss: 0.0282 - acc: 0.9902 - val_loss: 0.0452 - val_acc: 0.9844\n"
     ]
    }
   ],
   "source": [
    "## MODEL TRAINING ##\n",
    "# Training Hyperparamters\n",
    "EPOCHS = 9\n",
    "BATCH_SIZE = 200\n",
    "\n",
    "# Train the model\n",
    "history = model.fit(x_train, y_train, epochs=EPOCHS, batch_size=BATCH_SIZE,\n",
    "             validation_data = [x_test, y_test])"
   ]
  },
  {
   "cell_type": "code",
   "execution_count": 89,
   "metadata": {},
   "outputs": [],
   "source": [
    "history_dict = history.history"
   ]
  },
  {
   "cell_type": "code",
   "execution_count": 90,
   "metadata": {},
   "outputs": [
    {
     "data": {
      "text/plain": [
       "dict_keys(['val_loss', 'val_acc', 'loss', 'acc'])"
      ]
     },
     "execution_count": 90,
     "metadata": {},
     "output_type": "execute_result"
    }
   ],
   "source": [
    "history_dict.keys()"
   ]
  },
  {
   "cell_type": "code",
   "execution_count": 92,
   "metadata": {},
   "outputs": [
    {
     "data": {
      "text/plain": [
       "[<matplotlib.lines.Line2D at 0x7f5407531cf8>]"
      ]
     },
     "execution_count": 92,
     "metadata": {},
     "output_type": "execute_result"
    },
    {
     "data": {
      "image/png": "[encoded data removed]",
      "text/plain": [
       "<Figure size 432x288 with 1 Axes>"
      ]
     },
     "metadata": {
      "needs_background": "light"
     },
     "output_type": "display_data"
    }
   ],
   "source": [
    "import matplotlib.pyplot as plt\n",
    "%matplotlib inline\n",
    "epochs = range(1, EPOCHS + 1)\n",
    "\n",
    "loss_values = history_dict['loss']\n",
    "acc_values = history_dict['acc']\n",
    "val_loss_values = history_dict['val_loss']\n",
    "val_acc_values = history_dict['val_acc']\n",
    "plt.plot(epochs, loss_values, 'b')\n",
    "# plt.plot(epochs, acc_values, 'b')\n",
    "plt.plot(epochs, val_loss_values, 'r')\n",
    "# plt.plot(epochs, val_acc_values, 'r')"
   ]
  },
  {
   "cell_type": "code",
   "execution_count": 46,
   "metadata": {},
   "outputs": [],
   "source": [
    "## MODEL EVALUATION ##\n",
    "# Make a prediction on the test set\n",
    "test_predictions = model.predict(x_test)\n",
    "test_predictions = np.round(test_predictions)"
   ]
  },
  {
   "cell_type": "code",
   "execution_count": 47,
   "metadata": {},
   "outputs": [
    {
     "name": "stdout",
     "output_type": "stream",
     "text": [
      "Accuracy: 0.975625\n"
     ]
    }
   ],
   "source": [
    "# Report the accuracy\n",
    "accuracy = accuracy_score(y_test, test_predictions)\n",
    "print(\"Accuracy: \" + str(accuracy))"
   ]
  },
  {
   "cell_type": "code",
   "execution_count": null,
   "metadata": {},
   "outputs": [],
   "source": []
  }
 ],
 "metadata": {
  "kernelspec": {
   "display_name": "Python 3",
   "language": "python",
   "name": "python3"
  },
  "language_info": {
   "codemirror_mode": {
    "name": "ipython",
    "version": 3
   },
   "file_extension": ".py",
   "mimetype": "text/x-python",
   "name": "python",
   "nbconvert_exporter": "python",
   "pygments_lexer": "ipython3",
   "version": "3.7.3"
  }
 },
 "nbformat": 4,
 "nbformat_minor": 2
}
