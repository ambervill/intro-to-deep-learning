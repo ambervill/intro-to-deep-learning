{
 "cells": [
  {
   "cell_type": "code",
   "execution_count": 8,
   "metadata": {},
   "outputs": [],
   "source": [
    "import pandas as pd\n",
    "import numpy as np\n",
    "import tensorflow as tf\n",
    "%matplotlib inline\n",
    "import matplotlib\n",
    "import matplotlib.pyplot as plt"
   ]
  },
  {
   "cell_type": "code",
   "execution_count": 2,
   "metadata": {},
   "outputs": [],
   "source": [
    "from tensorflow.keras.datasets import fashion_mnist\n",
    "(train_images, train_labels), (test_images, test_labels) = fashion_mnist.load_data()"
   ]
  },
  {
   "cell_type": "code",
   "execution_count": 3,
   "metadata": {},
   "outputs": [],
   "source": [
    "train_images = train_images / 255.0\n",
    "test_images = test_images / 255.0"
   ]
  },
  {
   "cell_type": "code",
   "execution_count": 9,
   "metadata": {},
   "outputs": [],
   "source": [
    "model = tf.keras.Sequential([\n",
    "    tf.keras.layers.Flatten(input_shape=(28, 28)),\n",
    "    tf.keras.layers.Dense(15, activation='relu'),\n",
    "    tf.keras.layers.Dense(10, activation='softmax')\n",
    "])"
   ]
  },
  {
   "cell_type": "code",
   "execution_count": 5,
   "metadata": {},
   "outputs": [],
   "source": [
    "model.compile(optimizer='adam',\n",
    "              loss='sparse_categorical_crossentropy',\n",
    "              metrics=['accuracy'])"
   ]
  },
  {
   "cell_type": "code",
   "execution_count": 6,
   "metadata": {
    "scrolled": false
   },
   "outputs": [
    {
     "name": "stdout",
     "output_type": "stream",
     "text": [
      "Epoch 1/9\n",
      "60000/60000 [==============================] - 1s 20us/sample - loss: 0.7787 - acc: 0.7336\n",
      "Epoch 2/9\n",
      "60000/60000 [==============================] - 1s 17us/sample - loss: 0.5120 - acc: 0.8259\n",
      "Epoch 3/9\n",
      "60000/60000 [==============================] - 1s 18us/sample - loss: 0.4615 - acc: 0.8415\n",
      "Epoch 4/9\n",
      "60000/60000 [==============================] - 1s 17us/sample - loss: 0.4346 - acc: 0.8497\n",
      "Epoch 5/9\n",
      "60000/60000 [==============================] - 1s 19us/sample - loss: 0.4209 - acc: 0.8533\n",
      "Epoch 6/9\n",
      "60000/60000 [==============================] - 1s 18us/sample - loss: 0.4050 - acc: 0.8581\n",
      "Epoch 7/9\n",
      "60000/60000 [==============================] - 1s 19us/sample - loss: 0.3956 - acc: 0.8607\n",
      "Epoch 8/9\n",
      "60000/60000 [==============================] - 1s 17us/sample - loss: 0.3877 - acc: 0.8643\n",
      "Epoch 9/9\n",
      "60000/60000 [==============================] - 1s 19us/sample - loss: 0.3842 - acc: 0.8646\n"
     ]
    }
   ],
   "source": [
    "EPOCHS = 9\n",
    "BATCH_SIZE = 200\n",
    "history = model.fit(train_images, train_labels, epochs=EPOCHS, batch_size=BATCH_SIZE)"
   ]
  },
  {
   "cell_type": "code",
   "execution_count": 7,
   "metadata": {},
   "outputs": [
    {
     "data": {
      "image/png": "[encoded data removed]",
      "text/plain": [
       "<Figure size 432x288 with 1 Axes>"
      ]
     },
     "metadata": {
      "needs_background": "light"
     },
     "output_type": "display_data"
    }
   ],
   "source": [
    "history_dict = history.history\n",
    "epochs = range(1, EPOCHS + 1)\n",
    "loss_values = history_dict['loss']\n",
    "acc_values = history_dict['acc']\n",
    "plt.plot(epochs, loss_values, 'b')\n",
    "plt.plot(epochs, acc_values, 'r');"
   ]
  },
  {
   "cell_type": "code",
   "execution_count": null,
   "metadata": {},
   "outputs": [],
   "source": []
  }
 ],
 "metadata": {
  "kernelspec": {
   "display_name": "Python 3",
   "language": "python",
   "name": "python3"
  },
  "language_info": {
   "codemirror_mode": {
    "name": "ipython",
    "version": 3
   },
   "file_extension": ".py",
   "mimetype": "text/x-python",
   "name": "python",
   "nbconvert_exporter": "python",
   "pygments_lexer": "ipython3",
   "version": "3.7.3"
  }
 },
 "nbformat": 4,
 "nbformat_minor": 2
}
