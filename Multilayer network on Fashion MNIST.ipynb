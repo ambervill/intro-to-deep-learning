{
 "cells": [
  {
   "cell_type": "code",
   "execution_count": 25,
   "metadata": {},
   "outputs": [],
   "source": [
    "import pandas as pd\n",
    "import numpy as np\n",
    "import tensorflow as tf\n",
    "\n",
    "%matplotlib inline\n",
    "\n",
    "import matplotlib\n",
    "import matplotlib.pyplot as plt\n",
    "\n",
    "from random import *"
   ]
  },
  {
   "cell_type": "code",
   "execution_count": 2,
   "metadata": {},
   "outputs": [],
   "source": [
    "data_train = pd.read_csv('fashion-mnist_train.csv', header = 0)\n",
    "data_test = pd.read_csv('fashion-mnist_test.csv', header = 0)"
   ]
  },
  {
   "cell_type": "code",
   "execution_count": 3,
   "metadata": {},
   "outputs": [
    {
     "data": {
      "text/plain": [
       "60000"
      ]
     },
     "execution_count": 3,
     "metadata": {},
     "output_type": "execute_result"
    }
   ],
   "source": [
    "len(data_train)"
   ]
  },
  {
   "cell_type": "code",
   "execution_count": 4,
   "metadata": {},
   "outputs": [
    {
     "data": {
      "text/plain": [
       "array([2, 9, 6, ..., 8, 8, 7])"
      ]
     },
     "execution_count": 4,
     "metadata": {},
     "output_type": "execute_result"
    }
   ],
   "source": [
    "data_train['label'].values"
   ]
  },
  {
   "cell_type": "code",
   "execution_count": 5,
   "metadata": {},
   "outputs": [],
   "source": [
    "labels = data_train['label'].values.reshape(1, 60000)\n",
    "labels_ = np.zeros((60000, 10))\n",
    "labels_[np.arange(60000), labels] = 1\n",
    "labels_ = labels_.transpose()\n",
    "train = data_train.drop('label', axis=1).transpose()"
   ]
  },
  {
   "cell_type": "code",
   "execution_count": 6,
   "metadata": {},
   "outputs": [],
   "source": [
    "labels_test = data_test['label'].values.reshape(1, 10000)\n",
    "labels_test_ = np.zeros((10000, 10))\n",
    "labels_test_[np.arange(10000), labels_test] = 1\n",
    "labels_test_ = labels_test_.transpose()\n",
    "test = data_test.drop('label', axis=1).transpose()"
   ]
  },
  {
   "cell_type": "code",
   "execution_count": 7,
   "metadata": {},
   "outputs": [],
   "source": [
    "train = np.array(train / 255.0)\n",
    "test = np.array(test / 255.0)\n",
    "labels_ = np.array(labels_)\n",
    "labels_test_ = np.array(labels_test_)"
   ]
  },
  {
   "cell_type": "code",
   "execution_count": 10,
   "metadata": {},
   "outputs": [],
   "source": [
    "def get_label_name(idx):\n",
    "    if (idx == 0):\n",
    "        return '(0) T-shirt/top'\n",
    "    elif (idx == 1):\n",
    "        return '(1) Trouser'\n",
    "    elif (idx == 2):\n",
    "        return '(2) Pullover'\n",
    "    elif (idx == 3):\n",
    "        return '(3) Dress'\n",
    "    elif (idx == 4):\n",
    "        return '(4) Coat'\n",
    "    elif (idx == 5):\n",
    "        return '(5) Sandal'\n",
    "    elif (idx == 6):\n",
    "        return '(6) Shirt'\n",
    "    elif (idx == 7):\n",
    "        return '(7) Sneaker'\n",
    "    elif (idx == 8):\n",
    "        return '(8) Bag'\n",
    "    elif (idx == 9):\n",
    "        return '(9) Ankle boot'"
   ]
  },
  {
   "cell_type": "code",
   "execution_count": 12,
   "metadata": {},
   "outputs": [
    {
     "data": {
      "image/png": "[encoded data removed]",
      "text/plain": [
       "<Figure size 432x288 with 1 Axes>"
      ]
     },
     "metadata": {
      "needs_background": "light"
     },
     "output_type": "display_data"
    }
   ],
   "source": [
    "idx = 6\n",
    "plt.imshow(train[:,idx].reshape(28,28), cmap = matplotlib.cm.binary, interpolation = \"nearest\")\n",
    "plt.axis(\"on\")\n",
    "plt.title(get_label_name(labels[:,idx]))\n",
    "plt.show()\n",
    "\n"
   ]
  },
  {
   "cell_type": "code",
   "execution_count": 26,
   "metadata": {},
   "outputs": [],
   "source": [
    "# Размерность входного слоя - количество пикселей в каждом изображении\n",
    "n_dim = 784 \n",
    "tf.reset_default_graph()\n",
    "\n",
    "# Задаем количество нейронов в слоях\n",
    "n1 = 15 # Скрытый слой\n",
    "n2 = 10 # Выходной слой\n",
    "\n",
    "cost_history = np.empty(shape=[1], dtype = float)\n",
    "learning_rate = tf.placeholder(tf.float32, shape=())\n",
    "\n",
    "X = tf.placeholder(tf.float32, [n_dim, None])\n",
    "Y = tf.placeholder(tf.float32, [10, None])\n",
    "W1 = tf.Variable(tf.truncated_normal([n1, n_dim], stddev=.1)) \n",
    "b1 = tf.Variable(tf.constant(0.1, shape = [n1,1]) )\n",
    "W2 = tf.Variable(tf.truncated_normal([n2, n1], stddev=.1)) \n",
    "b2 = tf.Variable(tf.constant(0.1, shape = [n2,1])) \n",
    "                 \n",
    "# Реализация матричного уравнения работы сети\n",
    "Z1 = tf.nn.relu(tf.matmul(W1, X) + b1) \n",
    "Z2 = tf.matmul(W2, Z1) + b2 \n",
    "y_ = tf.nn.softmax(Z2,0) \n",
    "# Функция потерь - кросс-энтропия\n",
    "cost = - tf.reduce_mean(Y * tf.log(y_)+(1-Y) * tf.log(1-y_))\n",
    "# Оптимизатор - градиентный спуск\n",
    "optimizer = tf.train.GradientDescentOptimizer(learning_rate).minimize(cost)\n",
    "\n",
    "init = tf.global_variables_initializer()"
   ]
  },
  {
   "cell_type": "code",
   "execution_count": 15,
   "metadata": {
    "scrolled": true
   },
   "outputs": [
    {
     "name": "stdout",
     "output_type": "stream",
     "text": [
      "Эпоха 0 , функция потерь:  0.32567015 , точность:  0.058983333\n",
      "Эпоха 100 , функция потерь:  0.2642089 , точность:  0.43005\n",
      "Эпоха 200 , функция потерь:  0.18877597 , точность:  0.62255\n",
      "Эпоха 300 , функция потерь:  0.15338214 , точность:  0.66871667\n",
      "Эпоха 400 , функция потерь:  0.13759 , точность:  0.7008\n",
      "Эпоха 500 , функция потерь:  0.1281667 , точность:  0.7266667\n",
      "Эпоха 600 , функция потерь:  0.12112656 , точность:  0.7495833\n",
      "Эпоха 700 , функция потерь:  0.115339465 , точность:  0.76525\n",
      "Эпоха 800 , функция потерь:  0.1104865 , точность:  0.7773\n",
      "Эпоха 900 , функция потерь:  0.10643924 , точность:  0.78651667\n",
      "Эпоха 1000 , функция потерь:  0.10308134 , точность:  0.79331666\n",
      "Эпоха 1100 , функция потерь:  0.10028147 , точность:  0.79966664\n",
      "Эпоха 1200 , функция потерь:  0.09791898 , точность:  0.80525\n",
      "Эпоха 1300 , функция потерь:  0.095899686 , точность:  0.80895\n",
      "Эпоха 1400 , функция потерь:  0.094145946 , точность:  0.81261665\n",
      "Эпоха 1500 , функция потерь:  0.09260002 , точность:  0.8157\n",
      "Эпоха 1600 , функция потерь:  0.09122265 , точность:  0.81838334\n",
      "Эпоха 1700 , функция потерь:  0.08998504 , точность:  0.8208167\n",
      "Эпоха 1800 , функция потерь:  0.08886217 , точность:  0.8227\n",
      "Эпоха 1900 , функция потерь:  0.08783599 , точность:  0.82455\n",
      "Эпоха 2000 , функция потерь:  0.08689387 , точность:  0.82601666\n",
      "Эпоха 2100 , функция потерь:  0.08602405 , точность:  0.82746667\n",
      "Эпоха 2200 , функция потерь:  0.08521708 , точность:  0.8294167\n",
      "Эпоха 2300 , функция потерь:  0.08446584 , точность:  0.8307667\n",
      "Эпоха 2400 , функция потерь:  0.08376368 , точность:  0.8319\n",
      "Эпоха 2500 , функция потерь:  0.08310416 , точность:  0.83315\n",
      "Эпоха 2600 , функция потерь:  0.08248474 , точность:  0.8343667\n",
      "Эпоха 2700 , функция потерь:  0.081901394 , точность:  0.83571666\n",
      "Эпоха 2800 , функция потерь:  0.08134967 , точность:  0.8366167\n",
      "Эпоха 2900 , функция потерь:  0.08082794 , точность:  0.8375\n",
      "Эпоха 3000 , функция потерь:  0.080333255 , точность:  0.83825\n"
     ]
    }
   ],
   "source": [
    "sess = tf.Session()\n",
    "sess.run(tf.global_variables_initializer())\n",
    "\n",
    "training_epochs = 3000\n",
    "    \n",
    "cost_history = []\n",
    "accuracy_history = []\n",
    "for epoch in range(training_epochs+1):\n",
    "\n",
    "    sess.run(optimizer, feed_dict = {X: train, Y: labels_, learning_rate: 0.2})\n",
    "    cost_ = sess.run(cost, feed_dict={ X:train, Y: labels_})\n",
    "    cost_history = np.append(cost_history, cost_)\n",
    "    \n",
    "    correct_predictions = tf.equal(tf.argmax(y_,0), tf.argmax(Y,0))\n",
    "    accuracy = sess.run(tf.reduce_mean(tf.cast(correct_predictions, \"float\")), feed_dict={ X:test, Y: labels_test_})\n",
    "    accuracy_history = np.append(accuracy_history, accuracy)\n",
    "    if (epoch % 100 == 0):\n",
    "        print(\"Эпоха\",epoch,\", функция потерь: \", cost_,\", точность: \", accuracy)"
   ]
  },
  {
   "cell_type": "code",
   "execution_count": 16,
   "metadata": {},
   "outputs": [
    {
     "name": "stdout",
     "output_type": "stream",
     "text": [
      "Accuracy: 0.83825\n"
     ]
    }
   ],
   "source": [
    "correct_predictions = tf.equal(tf.argmax(y_,0), tf.argmax(Y,0))\n",
    "accuracy = tf.reduce_mean(tf.cast(correct_predictions, \"float\"))\n",
    "print (\"Accuracy:\", accuracy.eval({X: train, Y: labels_}, session = sess))"
   ]
  },
  {
   "cell_type": "code",
   "execution_count": 21,
   "metadata": {},
   "outputs": [
    {
     "data": {
      "image/png": "[encoded data removed]",
      "text/plain": [
       "<Figure size 720x576 with 1 Axes>"
      ]
     },
     "metadata": {
      "needs_background": "light"
     },
     "output_type": "display_data"
    }
   ],
   "source": [
    "plt.rc('xtick', labelsize='x-small')\n",
    "plt.rc('ytick', labelsize='x-small')\n",
    "fig = plt.figure(figsize=(10,8))\n",
    "ax = fig.add_subplot(1, 1, 1)\n",
    "ax.plot(cost_history, ls='solid', color = 'black', label = 'Cost')\n",
    "ax.plot(accuracy_history, ls='solid', color = 'red', label = 'Accuracy')\n",
    "ax.set_xlabel('Эпохи', fontsize = 16)\n",
    "ax.set_ylabel('Точность / Функция потерь', fontsize = 16)\n",
    "\n",
    "plt.legend(bbox_to_anchor=(1.05, 1), loc=2, borderaxespad=0., fontsize = 16)\n",
    "plt.tick_params(labelsize=16)"
   ]
  },
  {
   "cell_type": "code",
   "execution_count": null,
   "metadata": {},
   "outputs": [],
   "source": []
  }
 ],
 "metadata": {
  "kernelspec": {
   "display_name": "Python 3",
   "language": "python",
   "name": "python3"
  },
  "language_info": {
   "codemirror_mode": {
    "name": "ipython",
    "version": 3
   },
   "file_extension": ".py",
   "mimetype": "text/x-python",
   "name": "python",
   "nbconvert_exporter": "python",
   "pygments_lexer": "ipython3",
   "version": "3.7.3"
  }
 },
 "nbformat": 4,
 "nbformat_minor": 2
}
